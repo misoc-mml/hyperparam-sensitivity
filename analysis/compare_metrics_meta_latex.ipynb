{
 "cells": [
  {
   "cell_type": "code",
   "execution_count": 1,
   "metadata": {},
   "outputs": [],
   "source": [
    "import pandas as pd"
   ]
  },
  {
   "cell_type": "code",
   "execution_count": 11,
   "metadata": {},
   "outputs": [],
   "source": [
    "def show_est(df, metric, plugin_metric, plugin_models, rscore_models):\n",
    "    plugin_cols = [f'{metric}_{pm}_{plugin_metric}' for pm in plugin_models]\n",
    "    rscore_cols = [f'{metric}_rs_{rs_bm}' for rs_bm in rscore_models]\n",
    "    cols = ['name', f'{metric}_mse', f'{metric}_r2', f'{metric}_mixed'] + plugin_cols + rscore_cols + [f'{metric}_test']\n",
    "    return df[cols]\n",
    "\n",
    "def show_base(df, metric, plugin_metric, plugin_models, rscore_models):\n",
    "    plugin_cols = [f'{metric}_{pm}_{plugin_metric}' for pm in plugin_models]\n",
    "    rscore_cols = [f'{metric}_rs_{rs_bm}' for rs_bm in rscore_models]\n",
    "    cols = ['name'] + plugin_cols + rscore_cols + [f'{metric}_test']\n",
    "    return df[cols]\n",
    "\n",
    "def show_all(df, metric, plugin_metrics, plugin_models, matching_ks, rscore_models):\n",
    "    plugin_cols = [f'{metric}_{pm}_{plugin_metric}' for plugin_metric in plugin_metrics for pm in plugin_models]\n",
    "    matching_cols = [f'{metric}_match_{k}k_{plugin_metric}' for plugin_metric in plugin_metrics for k in matching_ks]\n",
    "    rscore_cols = [f'{metric}_rs_{rs_bm}' for rs_bm in rscore_models]\n",
    "    cols = ['name', f'{metric}_mse', f'{metric}_r2'] + plugin_cols + matching_cols + rscore_cols + [f'{metric}_test']\n",
    "    return df[cols]"
   ]
  },
  {
   "cell_type": "code",
   "execution_count": 3,
   "metadata": {},
   "outputs": [],
   "source": [
    "def my_filter(x, metric):\n",
    "    if x[f'{metric}_mse'] != '-':\n",
    "        return x[f'{metric}_mse']\n",
    "    elif x[f'{metric}_mixed'] != '-':\n",
    "        return x[f'{metric}_mixed']\n",
    "    else:\n",
    "        return x[f'{metric}_rs_lgbm']\n",
    "\n",
    "def ate_filter(x):\n",
    "    return my_filter(x, 'ate')\n",
    "\n",
    "def pehe_filter(x):\n",
    "    return my_filter(x, 'pehe')\n",
    "\n",
    "def att_filter(x):\n",
    "    return my_filter(x, 'att')\n",
    "\n",
    "def policy_filter(x):\n",
    "    return my_filter(x, 'policy')"
   ]
  },
  {
   "cell_type": "markdown",
   "metadata": {},
   "source": [
    "## IHDP"
   ]
  },
  {
   "cell_type": "code",
   "execution_count": 12,
   "metadata": {},
   "outputs": [],
   "source": [
    "plugin_meta_models = ['sl', 'tl']\n",
    "#plugin_base_models = ['dt', 'lgbm', 'cb']\n",
    "plugin_base_models = ['dt', 'lgbm', 'kr']\n",
    "plugin_models = [f'{pmm}_{pbm}' for pmm in plugin_meta_models for pbm in plugin_base_models]\n",
    "matching_ks = [1, 3, 5]\n",
    "#rscore_base_models = ['dt', 'lgbm', 'cb']\n",
    "rscore_base_models = ['dt', 'lgbm', 'kr']\n",
    "\n",
    "ds = 'ihdp'\n",
    "avg_metric = 'ate'\n",
    "ite_metric = 'pehe'"
   ]
  },
  {
   "cell_type": "markdown",
   "metadata": {},
   "source": [
    "### Perspective -- causal estimators"
   ]
  },
  {
   "cell_type": "code",
   "execution_count": 10,
   "metadata": {},
   "outputs": [
    {
     "name": "stdout",
     "output_type": "stream",
     "text": [
      "\\begin{tabular}{lllll}\n",
      "\\toprule\n",
      "  name &   selection_ate &        ate_test &  selection_pehe &       pehe_test \\\\\n",
      "\\midrule\n",
      "    SL & $0.246\\pm0.294$ & $0.001\\pm0.003$ & $1.373\\pm1.836$ & $1.205\\pm1.683$ \\\\\n",
      "    TL & $0.168\\pm0.293$ & $0.000\\pm0.000$ & $0.701\\pm0.607$ & $0.621\\pm0.601$ \\\\\n",
      " IPSWS & $0.131\\pm0.101$ & $0.001\\pm0.001$ & $1.552\\pm2.179$ & $1.204\\pm1.680$ \\\\\n",
      "   DRS & $0.211\\pm0.236$ & $0.002\\pm0.002$ & $1.470\\pm1.873$ & $1.275\\pm1.744$ \\\\\n",
      "  DMLS & $0.438\\pm0.407$ & $0.007\\pm0.010$ & $1.905\\pm2.477$ & $1.679\\pm2.489$ \\\\\n",
      "    XL & $0.270\\pm0.404$ & $0.009\\pm0.020$ & $1.276\\pm1.344$ & $1.067\\pm1.226$ \\\\\n",
      "    CF & $0.240\\pm0.388$ & $0.198\\pm0.392$ & $2.295\\pm3.556$ & $2.290\\pm3.559$ \\\\\n",
      "SL-MLP & $0.486\\pm0.385$ & $0.104\\pm0.113$ & $1.064\\pm0.637$ & $0.925\\pm0.673$ \\\\\n",
      "TL-MLP & $0.221\\pm0.229$ & $0.000\\pm0.000$ & $0.894\\pm0.549$ & $0.641\\pm0.570$ \\\\\n",
      "\\bottomrule\n",
      "\\end{tabular}\n",
      "\n"
     ]
    },
    {
     "name": "stderr",
     "output_type": "stream",
     "text": [
      "/tmp/ipykernel_1501069/2738531904.py:7: SettingWithCopyWarning: \n",
      "A value is trying to be set on a copy of a slice from a DataFrame.\n",
      "Try using .loc[row_indexer,col_indexer] = value instead\n",
      "\n",
      "See the caveats in the documentation: https://pandas.pydata.org/pandas-docs/stable/user_guide/indexing.html#returning-a-view-versus-a-copy\n",
      "  df_ate['selection'] = df_ate.apply(ate_filter, axis=1)\n",
      "/tmp/ipykernel_1501069/2738531904.py:8: SettingWithCopyWarning: \n",
      "A value is trying to be set on a copy of a slice from a DataFrame.\n",
      "Try using .loc[row_indexer,col_indexer] = value instead\n",
      "\n",
      "See the caveats in the documentation: https://pandas.pydata.org/pandas-docs/stable/user_guide/indexing.html#returning-a-view-versus-a-copy\n",
      "  df_pehe['selection'] = df_pehe.apply(pehe_filter, axis=1)\n"
     ]
    }
   ],
   "source": [
    "df_all = pd.read_csv(f'./tables/{ds}_compare_metrics_meta_est_latex.csv')\n",
    "df_all['name'] = df_all['name'].apply(lambda x: x.upper().replace('_', '-'))\n",
    "\n",
    "df_ate = show_est(df_all, avg_metric, 'ate', plugin_models, rscore_base_models)\n",
    "df_pehe = show_est(df_all, ite_metric, 'pehe', plugin_models, rscore_base_models)\n",
    "\n",
    "df_ate['selection'] = df_ate.apply(ate_filter, axis=1)\n",
    "df_pehe['selection'] = df_pehe.apply(pehe_filter, axis=1)\n",
    "\n",
    "df_merged = df_ate.merge(df_pehe, on=['name'], suffixes=['_ate', '_pehe'])\n",
    "print(df_merged[['name', 'selection_ate', 'ate_test', 'selection_pehe', 'pehe_test']].to_latex(index=False, escape=False))\n"
   ]
  },
  {
   "cell_type": "markdown",
   "metadata": {},
   "source": [
    "### Perspective -- base learners"
   ]
  },
  {
   "cell_type": "code",
   "execution_count": 11,
   "metadata": {},
   "outputs": [
    {
     "name": "stdout",
     "output_type": "stream",
     "text": [
      "\\begin{tabular}{lllll}\n",
      "\\toprule\n",
      "  name &   selection_ate &        ate_test &  selection_pehe &       pehe_test \\\\\n",
      "\\midrule\n",
      "    L1 & $0.340\\pm0.388$ & $0.046\\pm0.049$ & $1.795\\pm2.643$ & $1.643\\pm2.651$ \\\\\n",
      "    L2 & $0.270\\pm0.426$ & $0.161\\pm0.336$ & $1.810\\pm2.696$ & $1.603\\pm2.522$ \\\\\n",
      "    DT & $0.399\\pm0.605$ & $0.000\\pm0.001$ & $2.330\\pm3.085$ & $1.890\\pm2.797$ \\\\\n",
      "    RF & $0.253\\pm0.286$ & $0.020\\pm0.033$ & $1.909\\pm2.905$ & $1.529\\pm2.434$ \\\\\n",
      "    ET & $0.292\\pm0.387$ & $0.003\\pm0.006$ & $1.999\\pm3.320$ & $1.582\\pm2.744$ \\\\\n",
      "    KR & $0.282\\pm0.313$ & $0.001\\pm0.002$ & $1.399\\pm1.868$ & $0.653\\pm0.586$ \\\\\n",
      "    CB & $0.267\\pm0.191$ & $0.004\\pm0.007$ & $1.453\\pm2.099$ & $0.893\\pm1.157$ \\\\\n",
      "  LGBM & $0.264\\pm0.239$ & $0.016\\pm0.024$ & $1.881\\pm2.720$ & $1.326\\pm1.687$ \\\\\n",
      "    CF & $0.240\\pm0.388$ & $0.198\\pm0.392$ & $2.295\\pm3.556$ & $2.290\\pm3.559$ \\\\\n",
      "SL-MLP & $0.342\\pm0.201$ & $0.104\\pm0.113$ & $1.232\\pm0.831$ & $0.925\\pm0.673$ \\\\\n",
      "TL-MLP & $0.507\\pm0.624$ & $0.000\\pm0.000$ & $1.399\\pm1.488$ & $0.641\\pm0.570$ \\\\\n",
      "\\bottomrule\n",
      "\\end{tabular}\n",
      "\n"
     ]
    },
    {
     "name": "stderr",
     "output_type": "stream",
     "text": [
      "/tmp/ipykernel_1501069/411925663.py:7: SettingWithCopyWarning: \n",
      "A value is trying to be set on a copy of a slice from a DataFrame.\n",
      "Try using .loc[row_indexer,col_indexer] = value instead\n",
      "\n",
      "See the caveats in the documentation: https://pandas.pydata.org/pandas-docs/stable/user_guide/indexing.html#returning-a-view-versus-a-copy\n",
      "  df_ate['selection'] = df_ate['ate_rs_lgbm']\n",
      "/tmp/ipykernel_1501069/411925663.py:8: SettingWithCopyWarning: \n",
      "A value is trying to be set on a copy of a slice from a DataFrame.\n",
      "Try using .loc[row_indexer,col_indexer] = value instead\n",
      "\n",
      "See the caveats in the documentation: https://pandas.pydata.org/pandas-docs/stable/user_guide/indexing.html#returning-a-view-versus-a-copy\n",
      "  df_pehe['selection'] = df_pehe['pehe_rs_lgbm']\n"
     ]
    }
   ],
   "source": [
    "df_all = pd.read_csv(f'./tables/{ds}_compare_metrics_meta_base_latex.csv')\n",
    "df_all['name'] = df_all['name'].apply(lambda x: x.upper().replace('_', '-'))\n",
    "\n",
    "df_ate = show_base(df_all, avg_metric, 'ate', plugin_models, rscore_base_models)\n",
    "df_pehe = show_base(df_all, ite_metric, 'pehe', plugin_models, rscore_base_models)\n",
    "\n",
    "df_ate['selection'] = df_ate['ate_rs_lgbm']\n",
    "df_pehe['selection'] = df_pehe['pehe_rs_lgbm']\n",
    "\n",
    "df_merged = df_ate.merge(df_pehe, on=['name'], suffixes=['_ate', '_pehe'])\n",
    "print(df_merged[['name', 'selection_ate', 'ate_test', 'selection_pehe', 'pehe_test']].to_latex(index=False, escape=False))\n"
   ]
  },
  {
   "cell_type": "markdown",
   "metadata": {},
   "source": [
    "### Perspective -- model selection"
   ]
  },
  {
   "cell_type": "code",
   "execution_count": 14,
   "metadata": {},
   "outputs": [
    {
     "name": "stdout",
     "output_type": "stream",
     "text": [
      "\\begin{tabular}{lll}\n",
      "\\toprule\n",
      "    selection &         all_ate &        all_pehe \\\\\n",
      "\\midrule\n",
      "          MSE & $0.188\\pm0.291$ & $0.786\\pm0.568$ \\\\\n",
      "           R2 & $0.352\\pm0.437$ & $0.922\\pm0.711$ \\\\\n",
      "    SL-DT-ATE & $1.455\\pm2.545$ & $3.327\\pm4.362$ \\\\\n",
      "  SL-LGBM-ATE & $4.791\\pm2.711$ & $6.998\\pm6.783$ \\\\\n",
      "    SL-KR-ATE & $1.430\\pm1.823$ & $2.868\\pm2.934$ \\\\\n",
      "    TL-DT-ATE & $0.201\\pm0.172$ & $1.873\\pm1.179$ \\\\\n",
      "  TL-LGBM-ATE & $0.237\\pm0.245$ & $1.983\\pm1.302$ \\\\\n",
      "    TL-KR-ATE & $0.409\\pm0.344$ & $1.796\\pm2.069$ \\\\\n",
      "   SL-DT-PEHE & $1.655\\pm3.808$ & $4.188\\pm7.957$ \\\\\n",
      " SL-LGBM-PEHE & $4.791\\pm2.711$ & $6.998\\pm6.783$ \\\\\n",
      "   SL-KR-PEHE & $1.652\\pm2.363$ & $4.438\\pm6.744$ \\\\\n",
      "   TL-DT-PEHE & $0.267\\pm0.375$ & $2.605\\pm4.298$ \\\\\n",
      " TL-LGBM-PEHE & $0.306\\pm0.520$ & $2.357\\pm3.041$ \\\\\n",
      "   TL-KR-PEHE & $0.209\\pm0.144$ & $1.341\\pm1.555$ \\\\\n",
      " MATCH-1K-ATE & $0.323\\pm0.294$ & $3.199\\pm4.756$ \\\\\n",
      " MATCH-3K-ATE & $0.176\\pm0.117$ & $1.640\\pm1.055$ \\\\\n",
      " MATCH-5K-ATE & $0.209\\pm0.194$ & $1.841\\pm1.434$ \\\\\n",
      "MATCH-1K-PEHE & $0.164\\pm0.200$ & $0.718\\pm0.716$ \\\\\n",
      "MATCH-3K-PEHE & $0.167\\pm0.204$ & $0.748\\pm0.736$ \\\\\n",
      "MATCH-5K-PEHE & $0.182\\pm0.207$ & $0.755\\pm0.717$ \\\\\n",
      "        RS-DT & $0.853\\pm0.383$ & $2.149\\pm1.970$ \\\\\n",
      "      RS-LGBM & $0.535\\pm0.620$ & $1.389\\pm1.495$ \\\\\n",
      "        RS-KR & $0.378\\pm0.319$ & $1.495\\pm1.898$ \\\\\n",
      "         BEST & $0.000\\pm0.000$ & $0.585\\pm0.595$ \\\\\n",
      "\\bottomrule\n",
      "\\end{tabular}\n",
      "\n"
     ]
    }
   ],
   "source": [
    "df_all = pd.read_csv(f'./tables/{ds}_compare_metrics_all_latex.csv')\n",
    "\n",
    "df_ate = show_all(df_all, avg_metric, ['ate', 'pehe'], plugin_models, matching_ks, rscore_base_models)\n",
    "df_pehe = show_all(df_all, ite_metric, ['ate', 'pehe'], plugin_models, matching_ks, rscore_base_models)\n",
    "\n",
    "selection_models = [f'{pmm}_{pbm}_{pm}' for pmm in plugin_meta_models for pbm in plugin_base_models for pm in ['ate', 'pehe']] + [f'match_{k}k_{pm}' for k in matching_ks for pm in ['ate', 'pehe']] + [f'rs_{rbm}' for rbm in rscore_base_models]\n",
    "d_ate = {f'{avg_metric}_test': 'best', f'{avg_metric}_mse': 'mse', f'{avg_metric}_r2': 'r2'}\n",
    "d_pehe = {f'{ite_metric}_test': 'best', f'{ite_metric}_mse': 'mse', f'{ite_metric}_r2': 'r2'}\n",
    "for sm in selection_models:\n",
    "    d_ate[f'{avg_metric}_{sm}'] = sm\n",
    "    d_pehe[f'{ite_metric}_{sm}'] = sm\n",
    "\n",
    "df_ate = df_ate.rename(columns=d_ate)\n",
    "df_pehe = df_pehe.rename(columns=d_pehe)\n",
    "\n",
    "df_ate = df_ate.set_index('name').T\n",
    "df_pehe = df_pehe.set_index('name').T\n",
    "\n",
    "df_merged = df_ate.merge(df_pehe, left_index=True, right_index=True, suffixes=['_ate', '_pehe']).reset_index()\n",
    "\n",
    "df_merged['selection'] = df_merged['index'].apply(lambda x: x.upper().replace('_', '-'))\n",
    "print(df_merged[['selection', 'all_ate', 'all_pehe']].to_latex(index=False, escape=False))\n"
   ]
  },
  {
   "cell_type": "markdown",
   "metadata": {},
   "source": [
    "## JOBS"
   ]
  },
  {
   "cell_type": "code",
   "execution_count": 15,
   "metadata": {},
   "outputs": [],
   "source": [
    "plugin_meta_models = ['sl', 'tl']\n",
    "#plugin_base_models = ['dt', 'lgbm']\n",
    "plugin_base_models = ['dt', 'lgbm', 'kr']\n",
    "plugin_models = [f'{pmm}_{pbm}' for pmm in plugin_meta_models for pbm in plugin_base_models]\n",
    "matching_ks = [1, 3, 5]\n",
    "#rscore_base_models = ['dt', 'lgbm', 'cb']\n",
    "rscore_base_models = ['dt', 'lgbm', 'kr']\n",
    "\n",
    "ds = 'jobs'\n",
    "avg_metric = 'att'\n",
    "ite_metric = 'policy'"
   ]
  },
  {
   "cell_type": "markdown",
   "metadata": {},
   "source": [
    "### Perspective -- causal estimators"
   ]
  },
  {
   "cell_type": "code",
   "execution_count": 14,
   "metadata": {},
   "outputs": [
    {
     "name": "stdout",
     "output_type": "stream",
     "text": [
      "\\begin{tabular}{lllll}\n",
      "\\toprule\n",
      "  name &   selection_att &        att_test &   selection_pol &     policy_test \\\\\n",
      "\\midrule\n",
      "    SL & $0.066\\pm0.060$ & $0.003\\pm0.004$ & $0.261\\pm0.057$ & $0.158\\pm0.034$ \\\\\n",
      "    TL & $0.074\\pm0.069$ & $0.000\\pm0.000$ & $0.235\\pm0.058$ & $0.128\\pm0.036$ \\\\\n",
      " IPSWS & $0.077\\pm0.075$ & $0.024\\pm0.056$ & $0.245\\pm0.038$ & $0.158\\pm0.038$ \\\\\n",
      "   DRS & $0.075\\pm0.069$ & $0.001\\pm0.002$ & $0.240\\pm0.029$ & $0.149\\pm0.030$ \\\\\n",
      "  DMLS & $0.078\\pm0.070$ & $0.016\\pm0.016$ & $0.264\\pm0.043$ & $0.193\\pm0.035$ \\\\\n",
      "    XL & $0.077\\pm0.074$ & $0.003\\pm0.007$ & $0.233\\pm0.057$ & $0.153\\pm0.038$ \\\\\n",
      "    CF & $0.072\\pm0.064$ & $0.053\\pm0.067$ & $0.225\\pm0.047$ & $0.204\\pm0.050$ \\\\\n",
      "SL-MLP & $0.068\\pm0.066$ & $0.023\\pm0.057$ & $0.254\\pm0.055$ & $0.162\\pm0.029$ \\\\\n",
      "TL-MLP & $0.066\\pm0.078$ & $0.010\\pm0.029$ & $0.226\\pm0.041$ & $0.132\\pm0.028$ \\\\\n",
      "\\bottomrule\n",
      "\\end{tabular}\n",
      "\n"
     ]
    },
    {
     "name": "stderr",
     "output_type": "stream",
     "text": [
      "/tmp/ipykernel_1501069/4272279653.py:7: SettingWithCopyWarning: \n",
      "A value is trying to be set on a copy of a slice from a DataFrame.\n",
      "Try using .loc[row_indexer,col_indexer] = value instead\n",
      "\n",
      "See the caveats in the documentation: https://pandas.pydata.org/pandas-docs/stable/user_guide/indexing.html#returning-a-view-versus-a-copy\n",
      "  df_att['selection'] = df_att.apply(att_filter, axis=1)\n",
      "/tmp/ipykernel_1501069/4272279653.py:8: SettingWithCopyWarning: \n",
      "A value is trying to be set on a copy of a slice from a DataFrame.\n",
      "Try using .loc[row_indexer,col_indexer] = value instead\n",
      "\n",
      "See the caveats in the documentation: https://pandas.pydata.org/pandas-docs/stable/user_guide/indexing.html#returning-a-view-versus-a-copy\n",
      "  df_pol['selection'] = df_pol.apply(policy_filter, axis=1)\n"
     ]
    }
   ],
   "source": [
    "df_all = pd.read_csv(f'./tables/{ds}_compare_metrics_meta_est_latex.csv')\n",
    "df_all['name'] = df_all['name'].apply(lambda x: x.upper().replace('_', '-'))\n",
    "\n",
    "df_att = show_est(df_all, avg_metric, 'ate', plugin_models, rscore_base_models)\n",
    "df_pol = show_est(df_all, ite_metric, 'pehe', plugin_models, rscore_base_models)\n",
    "\n",
    "df_att['selection'] = df_att.apply(att_filter, axis=1)\n",
    "df_pol['selection'] = df_pol.apply(policy_filter, axis=1)\n",
    "\n",
    "df_merged = df_att.merge(df_pol, on=['name'], suffixes=['_att', '_pol'])\n",
    "\n",
    "print(df_merged[['name', 'selection_att', 'att_test', 'selection_pol', 'policy_test']].to_latex(index=False, escape=False))"
   ]
  },
  {
   "cell_type": "markdown",
   "metadata": {},
   "source": [
    "### Perspective -- base learners"
   ]
  },
  {
   "cell_type": "code",
   "execution_count": 15,
   "metadata": {},
   "outputs": [
    {
     "name": "stdout",
     "output_type": "stream",
     "text": [
      "\\begin{tabular}{lllll}\n",
      "\\toprule\n",
      "  name &   selection_att &        att_test &   selection_pol &     policy_test \\\\\n",
      "\\midrule\n",
      "    L1 & $0.093\\pm0.072$ & $0.032\\pm0.066$ & $0.270\\pm0.071$ & $0.197\\pm0.040$ \\\\\n",
      "    L2 & $0.082\\pm0.075$ & $0.061\\pm0.068$ & $0.224\\pm0.058$ & $0.199\\pm0.042$ \\\\\n",
      "    DT & $0.062\\pm0.058$ & $0.002\\pm0.004$ & $0.233\\pm0.056$ & $0.142\\pm0.031$ \\\\\n",
      "    RF & $0.074\\pm0.062$ & $0.011\\pm0.019$ & $0.239\\pm0.050$ & $0.155\\pm0.046$ \\\\\n",
      "    ET & $0.073\\pm0.070$ & $0.014\\pm0.025$ & $0.223\\pm0.048$ & $0.148\\pm0.039$ \\\\\n",
      "    KR & $0.085\\pm0.078$ & $0.000\\pm0.000$ & $0.262\\pm0.072$ & $0.141\\pm0.026$ \\\\\n",
      "    CB & $0.066\\pm0.064$ & $0.025\\pm0.034$ & $0.212\\pm0.046$ & $0.156\\pm0.033$ \\\\\n",
      "  LGBM & $0.076\\pm0.072$ & $0.009\\pm0.010$ & $0.221\\pm0.045$ & $0.174\\pm0.034$ \\\\\n",
      "    CF & $0.072\\pm0.064$ & $0.053\\pm0.067$ & $0.225\\pm0.047$ & $0.204\\pm0.050$ \\\\\n",
      "SL-MLP & $0.075\\pm0.076$ & $0.023\\pm0.057$ & $0.251\\pm0.042$ & $0.162\\pm0.029$ \\\\\n",
      "TL-MLP & $0.088\\pm0.074$ & $0.010\\pm0.029$ & $0.216\\pm0.046$ & $0.132\\pm0.028$ \\\\\n",
      "\\bottomrule\n",
      "\\end{tabular}\n",
      "\n"
     ]
    },
    {
     "name": "stderr",
     "output_type": "stream",
     "text": [
      "/tmp/ipykernel_1501069/932918307.py:7: SettingWithCopyWarning: \n",
      "A value is trying to be set on a copy of a slice from a DataFrame.\n",
      "Try using .loc[row_indexer,col_indexer] = value instead\n",
      "\n",
      "See the caveats in the documentation: https://pandas.pydata.org/pandas-docs/stable/user_guide/indexing.html#returning-a-view-versus-a-copy\n",
      "  df_att['selection'] = df_att['att_rs_lgbm']\n",
      "/tmp/ipykernel_1501069/932918307.py:8: SettingWithCopyWarning: \n",
      "A value is trying to be set on a copy of a slice from a DataFrame.\n",
      "Try using .loc[row_indexer,col_indexer] = value instead\n",
      "\n",
      "See the caveats in the documentation: https://pandas.pydata.org/pandas-docs/stable/user_guide/indexing.html#returning-a-view-versus-a-copy\n",
      "  df_pol['selection'] = df_pol['policy_rs_lgbm']\n"
     ]
    }
   ],
   "source": [
    "df_all = pd.read_csv(f'./tables/{ds}_compare_metrics_meta_base_latex.csv')\n",
    "df_all['name'] = df_all['name'].apply(lambda x: x.upper().replace('_', '-'))\n",
    "\n",
    "df_att = show_base(df_all, avg_metric, 'ate', plugin_models, rscore_base_models)\n",
    "df_pol = show_base(df_all, ite_metric, 'pehe', plugin_models, rscore_base_models)\n",
    "\n",
    "df_att['selection'] = df_att['att_rs_lgbm']\n",
    "df_pol['selection'] = df_pol['policy_rs_lgbm']\n",
    "\n",
    "df_merged = df_att.merge(df_pol, on=['name'], suffixes=['_att', '_pol'])\n",
    "\n",
    "print(df_merged[['name', 'selection_att', 'att_test', 'selection_pol', 'policy_test']].to_latex(index=False, escape=False))"
   ]
  },
  {
   "cell_type": "markdown",
   "metadata": {},
   "source": [
    "### Perspective -- model selection"
   ]
  },
  {
   "cell_type": "code",
   "execution_count": 16,
   "metadata": {},
   "outputs": [
    {
     "name": "stdout",
     "output_type": "stream",
     "text": [
      "\\begin{tabular}{lll}\n",
      "\\toprule\n",
      "    selection &         all_att &         all_pol \\\\\n",
      "\\midrule\n",
      "          MSE & $0.077\\pm0.075$ & $0.245\\pm0.038$ \\\\\n",
      "           R2 & $0.072\\pm0.065$ & $0.257\\pm0.058$ \\\\\n",
      "    SL-DT-ATE & $0.080\\pm0.079$ & $0.275\\pm0.072$ \\\\\n",
      "  SL-LGBM-ATE & $0.075\\pm0.076$ & $0.267\\pm0.046$ \\\\\n",
      "    SL-KR-ATE & $0.068\\pm0.065$ & $0.233\\pm0.070$ \\\\\n",
      "    TL-DT-ATE & $0.086\\pm0.079$ & $0.245\\pm0.052$ \\\\\n",
      "  TL-LGBM-ATE & $0.081\\pm0.081$ & $0.250\\pm0.047$ \\\\\n",
      "    TL-KR-ATE & $0.066\\pm0.039$ & $0.222\\pm0.031$ \\\\\n",
      "   SL-DT-PEHE & $0.083\\pm0.079$ & $0.297\\pm0.060$ \\\\\n",
      " SL-LGBM-PEHE & $0.083\\pm0.079$ & $0.296\\pm0.060$ \\\\\n",
      "   SL-KR-PEHE & $0.076\\pm0.072$ & $0.248\\pm0.054$ \\\\\n",
      "   TL-DT-PEHE & $0.065\\pm0.067$ & $0.248\\pm0.049$ \\\\\n",
      " TL-LGBM-PEHE & $0.073\\pm0.067$ & $0.247\\pm0.044$ \\\\\n",
      "   TL-KR-PEHE & $0.085\\pm0.070$ & $0.244\\pm0.045$ \\\\\n",
      " MATCH-1K-ATE & $0.161\\pm0.228$ & $0.229\\pm0.053$ \\\\\n",
      " MATCH-3K-ATE & $0.158\\pm0.230$ & $0.227\\pm0.043$ \\\\\n",
      " MATCH-5K-ATE & $0.160\\pm0.231$ & $0.236\\pm0.063$ \\\\\n",
      "MATCH-1K-PEHE & $0.080\\pm0.084$ & $0.235\\pm0.043$ \\\\\n",
      "MATCH-3K-PEHE & $0.067\\pm0.071$ & $0.235\\pm0.030$ \\\\\n",
      "MATCH-5K-PEHE & $0.073\\pm0.084$ & $0.241\\pm0.028$ \\\\\n",
      "        RS-DT & $0.072\\pm0.057$ & $0.220\\pm0.035$ \\\\\n",
      "      RS-LGBM & $0.075\\pm0.058$ & $0.224\\pm0.052$ \\\\\n",
      "        RS-KR & $0.080\\pm0.069$ & $0.234\\pm0.041$ \\\\\n",
      "         BEST & $0.000\\pm0.000$ & $0.121\\pm0.032$ \\\\\n",
      "\\bottomrule\n",
      "\\end{tabular}\n",
      "\n"
     ]
    }
   ],
   "source": [
    "df_all = pd.read_csv(f'./tables/{ds}_compare_metrics_all_latex.csv')\n",
    "\n",
    "df_ate = show_all(df_all, avg_metric, ['ate', 'pehe'], plugin_models, matching_ks, rscore_base_models)\n",
    "df_pehe = show_all(df_all, ite_metric, ['ate', 'pehe'], plugin_models, matching_ks, rscore_base_models)\n",
    "\n",
    "selection_models = [f'{pmm}_{pbm}_{pm}' for pmm in plugin_meta_models for pbm in plugin_base_models for pm in ['ate', 'pehe']] + [f'match_{k}k_{pm}' for k in matching_ks for pm in ['ate', 'pehe']] + [f'rs_{rbm}' for rbm in rscore_base_models]\n",
    "d_ate = {f'{avg_metric}_test': 'best', f'{avg_metric}_mse': 'mse', f'{avg_metric}_r2': 'r2'}\n",
    "d_pehe = {f'{ite_metric}_test': 'best', f'{ite_metric}_mse': 'mse', f'{ite_metric}_r2': 'r2'}\n",
    "for sm in selection_models:\n",
    "    d_ate[f'{avg_metric}_{sm}'] = sm\n",
    "    d_pehe[f'{ite_metric}_{sm}'] = sm\n",
    "\n",
    "df_ate = df_ate.rename(columns=d_ate)\n",
    "df_pehe = df_pehe.rename(columns=d_pehe)\n",
    "\n",
    "df_ate = df_ate.set_index('name').T\n",
    "df_pehe = df_pehe.set_index('name').T\n",
    "\n",
    "df_merged = df_ate.merge(df_pehe, left_index=True, right_index=True, suffixes=['_att', '_pol']).reset_index()\n",
    "\n",
    "df_merged['selection'] = df_merged['index'].apply(lambda x: x.upper().replace('_', '-'))\n",
    "print(df_merged[['selection', 'all_att', 'all_pol']].to_latex(index=False, escape=False))\n"
   ]
  }
 ],
 "metadata": {
  "kernelspec": {
   "display_name": "Python 3.9.7 ('tf-gpu')",
   "language": "python",
   "name": "python3"
  },
  "language_info": {
   "codemirror_mode": {
    "name": "ipython",
    "version": 3
   },
   "file_extension": ".py",
   "mimetype": "text/x-python",
   "name": "python",
   "nbconvert_exporter": "python",
   "pygments_lexer": "ipython3",
   "version": "3.9.7"
  },
  "orig_nbformat": 4,
  "vscode": {
   "interpreter": {
    "hash": "b92bf4d768b2900bfdb0d55b9270dc3e0484f7baa07f8baf2ad16a5c3cba66ac"
   }
  }
 },
 "nbformat": 4,
 "nbformat_minor": 2
}
