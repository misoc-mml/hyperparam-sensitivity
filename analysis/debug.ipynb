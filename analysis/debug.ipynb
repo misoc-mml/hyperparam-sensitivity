{
 "cells": [
  {
   "cell_type": "code",
   "execution_count": 1,
   "metadata": {},
   "outputs": [],
   "source": [
    "import numpy as np\n",
    "import pandas as pd\n",
    "import matplotlib.pyplot as plt"
   ]
  },
  {
   "cell_type": "code",
   "execution_count": 2,
   "metadata": {},
   "outputs": [],
   "source": [
    "# Get MSE and PEHE per (data iter, CV fold, param) tuple (valid MSE, valid PEHE)\n",
    "# Get MSE and PEHE per (data iter, param) tuple (test MSE, test PEHE)\n",
    "val_scores = pd.read_csv('./debug/sl_dt_val_metrics.csv')\n",
    "test_scores = pd.read_csv('./debug/sl_dt_test_metrics.csv')"
   ]
  },
  {
   "cell_type": "code",
   "execution_count": 3,
   "metadata": {},
   "outputs": [
    {
     "data": {
      "text/html": [
       "<div>\n",
       "<style scoped>\n",
       "    .dataframe tbody tr th:only-of-type {\n",
       "        vertical-align: middle;\n",
       "    }\n",
       "\n",
       "    .dataframe tbody tr th {\n",
       "        vertical-align: top;\n",
       "    }\n",
       "\n",
       "    .dataframe thead th {\n",
       "        text-align: right;\n",
       "    }\n",
       "</style>\n",
       "<table border=\"1\" class=\"dataframe\">\n",
       "  <thead>\n",
       "    <tr style=\"text-align: right;\">\n",
       "      <th></th>\n",
       "      <th>iter_id</th>\n",
       "      <th>fold_id</th>\n",
       "      <th>param_id</th>\n",
       "      <th>mse</th>\n",
       "      <th>ate</th>\n",
       "      <th>pehe</th>\n",
       "    </tr>\n",
       "  </thead>\n",
       "  <tbody>\n",
       "    <tr>\n",
       "      <th>0</th>\n",
       "      <td>1</td>\n",
       "      <td>1</td>\n",
       "      <td>1</td>\n",
       "      <td>2.092745</td>\n",
       "      <td>0.000464</td>\n",
       "      <td>1.361742</td>\n",
       "    </tr>\n",
       "    <tr>\n",
       "      <th>1</th>\n",
       "      <td>1</td>\n",
       "      <td>2</td>\n",
       "      <td>1</td>\n",
       "      <td>1.529520</td>\n",
       "      <td>0.101542</td>\n",
       "      <td>1.010493</td>\n",
       "    </tr>\n",
       "    <tr>\n",
       "      <th>2</th>\n",
       "      <td>1</td>\n",
       "      <td>3</td>\n",
       "      <td>1</td>\n",
       "      <td>1.542413</td>\n",
       "      <td>0.086043</td>\n",
       "      <td>1.070330</td>\n",
       "    </tr>\n",
       "    <tr>\n",
       "      <th>3</th>\n",
       "      <td>1</td>\n",
       "      <td>4</td>\n",
       "      <td>1</td>\n",
       "      <td>1.867985</td>\n",
       "      <td>0.166017</td>\n",
       "      <td>1.361113</td>\n",
       "    </tr>\n",
       "    <tr>\n",
       "      <th>4</th>\n",
       "      <td>1</td>\n",
       "      <td>5</td>\n",
       "      <td>1</td>\n",
       "      <td>1.584208</td>\n",
       "      <td>0.152015</td>\n",
       "      <td>1.069577</td>\n",
       "    </tr>\n",
       "  </tbody>\n",
       "</table>\n",
       "</div>"
      ],
      "text/plain": [
       "   iter_id  fold_id  param_id       mse       ate      pehe\n",
       "0        1        1         1  2.092745  0.000464  1.361742\n",
       "1        1        2         1  1.529520  0.101542  1.010493\n",
       "2        1        3         1  1.542413  0.086043  1.070330\n",
       "3        1        4         1  1.867985  0.166017  1.361113\n",
       "4        1        5         1  1.584208  0.152015  1.069577"
      ]
     },
     "execution_count": 3,
     "metadata": {},
     "output_type": "execute_result"
    }
   ],
   "source": [
    "val_scores.head()"
   ]
  },
  {
   "cell_type": "code",
   "execution_count": 28,
   "metadata": {},
   "outputs": [
    {
     "data": {
      "text/html": [
       "<div>\n",
       "<style scoped>\n",
       "    .dataframe tbody tr th:only-of-type {\n",
       "        vertical-align: middle;\n",
       "    }\n",
       "\n",
       "    .dataframe tbody tr th {\n",
       "        vertical-align: top;\n",
       "    }\n",
       "\n",
       "    .dataframe thead th {\n",
       "        text-align: right;\n",
       "    }\n",
       "</style>\n",
       "<table border=\"1\" class=\"dataframe\">\n",
       "  <thead>\n",
       "    <tr style=\"text-align: right;\">\n",
       "      <th></th>\n",
       "      <th>iter_id</th>\n",
       "      <th>param_id</th>\n",
       "      <th>fold_id</th>\n",
       "      <th>mse</th>\n",
       "      <th>ate</th>\n",
       "      <th>pehe</th>\n",
       "    </tr>\n",
       "  </thead>\n",
       "  <tbody>\n",
       "    <tr>\n",
       "      <th>0</th>\n",
       "      <td>1</td>\n",
       "      <td>1</td>\n",
       "      <td>5.5</td>\n",
       "      <td>1.671135</td>\n",
       "      <td>0.136018</td>\n",
       "      <td>1.145796</td>\n",
       "    </tr>\n",
       "    <tr>\n",
       "      <th>1</th>\n",
       "      <td>1</td>\n",
       "      <td>2</td>\n",
       "      <td>5.5</td>\n",
       "      <td>1.739543</td>\n",
       "      <td>0.108436</td>\n",
       "      <td>1.223003</td>\n",
       "    </tr>\n",
       "    <tr>\n",
       "      <th>2</th>\n",
       "      <td>1</td>\n",
       "      <td>3</td>\n",
       "      <td>5.5</td>\n",
       "      <td>1.816634</td>\n",
       "      <td>0.102436</td>\n",
       "      <td>1.325447</td>\n",
       "    </tr>\n",
       "  </tbody>\n",
       "</table>\n",
       "</div>"
      ],
      "text/plain": [
       "   iter_id  param_id  fold_id       mse       ate      pehe\n",
       "0        1         1      5.5  1.671135  0.136018  1.145796\n",
       "1        1         2      5.5  1.739543  0.108436  1.223003\n",
       "2        1         3      5.5  1.816634  0.102436  1.325447"
      ]
     },
     "execution_count": 28,
     "metadata": {},
     "output_type": "execute_result"
    }
   ],
   "source": [
    "val_scores.groupby(['iter_id', 'param_id'], as_index=False).mean()"
   ]
  },
  {
   "cell_type": "code",
   "execution_count": 33,
   "metadata": {},
   "outputs": [
    {
     "data": {
      "text/html": [
       "<div>\n",
       "<style scoped>\n",
       "    .dataframe tbody tr th:only-of-type {\n",
       "        vertical-align: middle;\n",
       "    }\n",
       "\n",
       "    .dataframe tbody tr th {\n",
       "        vertical-align: top;\n",
       "    }\n",
       "\n",
       "    .dataframe thead th {\n",
       "        text-align: right;\n",
       "    }\n",
       "</style>\n",
       "<table border=\"1\" class=\"dataframe\">\n",
       "  <thead>\n",
       "    <tr style=\"text-align: right;\">\n",
       "      <th></th>\n",
       "      <th>iter_id</th>\n",
       "      <th>param_id</th>\n",
       "      <th>mse</th>\n",
       "      <th>ate</th>\n",
       "      <th>pehe</th>\n",
       "    </tr>\n",
       "  </thead>\n",
       "  <tbody>\n",
       "    <tr>\n",
       "      <th>0</th>\n",
       "      <td>1</td>\n",
       "      <td>1</td>\n",
       "      <td>1.837094</td>\n",
       "      <td>0.002232</td>\n",
       "      <td>1.218570</td>\n",
       "    </tr>\n",
       "    <tr>\n",
       "      <th>1</th>\n",
       "      <td>1</td>\n",
       "      <td>2</td>\n",
       "      <td>1.961673</td>\n",
       "      <td>0.013703</td>\n",
       "      <td>1.388833</td>\n",
       "    </tr>\n",
       "    <tr>\n",
       "      <th>2</th>\n",
       "      <td>1</td>\n",
       "      <td>3</td>\n",
       "      <td>2.035585</td>\n",
       "      <td>0.040747</td>\n",
       "      <td>1.570412</td>\n",
       "    </tr>\n",
       "  </tbody>\n",
       "</table>\n",
       "</div>"
      ],
      "text/plain": [
       "   iter_id  param_id       mse       ate      pehe\n",
       "0        1         1  1.837094  0.002232  1.218570\n",
       "1        1         2  1.961673  0.013703  1.388833\n",
       "2        1         3  2.035585  0.040747  1.570412"
      ]
     },
     "execution_count": 33,
     "metadata": {},
     "output_type": "execute_result"
    }
   ],
   "source": [
    "test_scores"
   ]
  },
  {
   "cell_type": "code",
   "execution_count": 29,
   "metadata": {},
   "outputs": [],
   "source": [
    "val_scores_mean = val_scores.groupby(['iter_id', 'param_id'], as_index=False).mean()"
   ]
  },
  {
   "cell_type": "code",
   "execution_count": 31,
   "metadata": {},
   "outputs": [
    {
     "data": {
      "text/html": [
       "<div>\n",
       "<style scoped>\n",
       "    .dataframe tbody tr th:only-of-type {\n",
       "        vertical-align: middle;\n",
       "    }\n",
       "\n",
       "    .dataframe tbody tr th {\n",
       "        vertical-align: top;\n",
       "    }\n",
       "\n",
       "    .dataframe thead th {\n",
       "        text-align: right;\n",
       "    }\n",
       "</style>\n",
       "<table border=\"1\" class=\"dataframe\">\n",
       "  <thead>\n",
       "    <tr style=\"text-align: right;\">\n",
       "      <th></th>\n",
       "      <th>iter_id</th>\n",
       "      <th>param_id</th>\n",
       "      <th>fold_id</th>\n",
       "      <th>mse</th>\n",
       "      <th>ate</th>\n",
       "      <th>pehe</th>\n",
       "    </tr>\n",
       "  </thead>\n",
       "  <tbody>\n",
       "    <tr>\n",
       "      <th>0</th>\n",
       "      <td>1</td>\n",
       "      <td>1</td>\n",
       "      <td>5.5</td>\n",
       "      <td>1.671135</td>\n",
       "      <td>0.136018</td>\n",
       "      <td>1.145796</td>\n",
       "    </tr>\n",
       "    <tr>\n",
       "      <th>1</th>\n",
       "      <td>1</td>\n",
       "      <td>2</td>\n",
       "      <td>5.5</td>\n",
       "      <td>1.739543</td>\n",
       "      <td>0.108436</td>\n",
       "      <td>1.223003</td>\n",
       "    </tr>\n",
       "    <tr>\n",
       "      <th>2</th>\n",
       "      <td>1</td>\n",
       "      <td>3</td>\n",
       "      <td>5.5</td>\n",
       "      <td>1.816634</td>\n",
       "      <td>0.102436</td>\n",
       "      <td>1.325447</td>\n",
       "    </tr>\n",
       "  </tbody>\n",
       "</table>\n",
       "</div>"
      ],
      "text/plain": [
       "   iter_id  param_id  fold_id       mse       ate      pehe\n",
       "0        1         1      5.5  1.671135  0.136018  1.145796\n",
       "1        1         2      5.5  1.739543  0.108436  1.223003\n",
       "2        1         3      5.5  1.816634  0.102436  1.325447"
      ]
     },
     "execution_count": 31,
     "metadata": {},
     "output_type": "execute_result"
    }
   ],
   "source": [
    "val_scores_mean"
   ]
  },
  {
   "cell_type": "code",
   "execution_count": 36,
   "metadata": {},
   "outputs": [],
   "source": [
    "df_merged = val_scores_mean.merge(test_scores, on=['iter_id', 'param_id'], suffixes=['_val', '_test'])"
   ]
  },
  {
   "cell_type": "code",
   "execution_count": 37,
   "metadata": {},
   "outputs": [
    {
     "data": {
      "text/html": [
       "<div>\n",
       "<style scoped>\n",
       "    .dataframe tbody tr th:only-of-type {\n",
       "        vertical-align: middle;\n",
       "    }\n",
       "\n",
       "    .dataframe tbody tr th {\n",
       "        vertical-align: top;\n",
       "    }\n",
       "\n",
       "    .dataframe thead th {\n",
       "        text-align: right;\n",
       "    }\n",
       "</style>\n",
       "<table border=\"1\" class=\"dataframe\">\n",
       "  <thead>\n",
       "    <tr style=\"text-align: right;\">\n",
       "      <th></th>\n",
       "      <th>iter_id</th>\n",
       "      <th>param_id</th>\n",
       "      <th>fold_id</th>\n",
       "      <th>mse_val</th>\n",
       "      <th>ate_val</th>\n",
       "      <th>pehe_val</th>\n",
       "      <th>mse_test</th>\n",
       "      <th>ate_test</th>\n",
       "      <th>pehe_test</th>\n",
       "    </tr>\n",
       "  </thead>\n",
       "  <tbody>\n",
       "    <tr>\n",
       "      <th>0</th>\n",
       "      <td>1</td>\n",
       "      <td>1</td>\n",
       "      <td>5.5</td>\n",
       "      <td>1.671135</td>\n",
       "      <td>0.136018</td>\n",
       "      <td>1.145796</td>\n",
       "      <td>1.837094</td>\n",
       "      <td>0.002232</td>\n",
       "      <td>1.218570</td>\n",
       "    </tr>\n",
       "    <tr>\n",
       "      <th>1</th>\n",
       "      <td>1</td>\n",
       "      <td>2</td>\n",
       "      <td>5.5</td>\n",
       "      <td>1.739543</td>\n",
       "      <td>0.108436</td>\n",
       "      <td>1.223003</td>\n",
       "      <td>1.961673</td>\n",
       "      <td>0.013703</td>\n",
       "      <td>1.388833</td>\n",
       "    </tr>\n",
       "    <tr>\n",
       "      <th>2</th>\n",
       "      <td>1</td>\n",
       "      <td>3</td>\n",
       "      <td>5.5</td>\n",
       "      <td>1.816634</td>\n",
       "      <td>0.102436</td>\n",
       "      <td>1.325447</td>\n",
       "      <td>2.035585</td>\n",
       "      <td>0.040747</td>\n",
       "      <td>1.570412</td>\n",
       "    </tr>\n",
       "  </tbody>\n",
       "</table>\n",
       "</div>"
      ],
      "text/plain": [
       "   iter_id  param_id  fold_id   mse_val   ate_val  pehe_val  mse_test  \\\n",
       "0        1         1      5.5  1.671135  0.136018  1.145796  1.837094   \n",
       "1        1         2      5.5  1.739543  0.108436  1.223003  1.961673   \n",
       "2        1         3      5.5  1.816634  0.102436  1.325447  2.035585   \n",
       "\n",
       "   ate_test  pehe_test  \n",
       "0  0.002232   1.218570  \n",
       "1  0.013703   1.388833  \n",
       "2  0.040747   1.570412  "
      ]
     },
     "execution_count": 37,
     "metadata": {},
     "output_type": "execute_result"
    }
   ],
   "source": [
    "df_merged"
   ]
  },
  {
   "cell_type": "code",
   "execution_count": 54,
   "metadata": {},
   "outputs": [
    {
     "data": {
      "text/plain": [
       "mse_val      1.671135\n",
       "pehe_test    1.218570\n",
       "Name: 0, dtype: float64"
      ]
     },
     "execution_count": 54,
     "metadata": {},
     "output_type": "execute_result"
    }
   ],
   "source": [
    "# Best val MSE\n",
    "df_merged.loc[df_merged['mse_val'].idxmin(), ['mse_val', 'pehe_test']]"
   ]
  },
  {
   "cell_type": "code",
   "execution_count": 55,
   "metadata": {},
   "outputs": [
    {
     "data": {
      "text/plain": [
       "mse_val      1.671135\n",
       "pehe_test    1.218570\n",
       "Name: 0, dtype: float64"
      ]
     },
     "execution_count": 55,
     "metadata": {},
     "output_type": "execute_result"
    }
   ],
   "source": [
    "# Best test PEHE\n",
    "df_merged.loc[df_merged['pehe_test'].idxmin(), ['mse_val', 'pehe_test']]"
   ]
  },
  {
   "cell_type": "code",
   "execution_count": 47,
   "metadata": {},
   "outputs": [
    {
     "data": {
      "text/html": [
       "<div>\n",
       "<style scoped>\n",
       "    .dataframe tbody tr th:only-of-type {\n",
       "        vertical-align: middle;\n",
       "    }\n",
       "\n",
       "    .dataframe tbody tr th {\n",
       "        vertical-align: top;\n",
       "    }\n",
       "\n",
       "    .dataframe thead th {\n",
       "        text-align: right;\n",
       "    }\n",
       "</style>\n",
       "<table border=\"1\" class=\"dataframe\">\n",
       "  <thead>\n",
       "    <tr style=\"text-align: right;\">\n",
       "      <th></th>\n",
       "      <th>mse_val</th>\n",
       "      <th>ate_val</th>\n",
       "      <th>pehe_val</th>\n",
       "      <th>ate_test</th>\n",
       "      <th>pehe_test</th>\n",
       "    </tr>\n",
       "  </thead>\n",
       "  <tbody>\n",
       "    <tr>\n",
       "      <th>mse_val</th>\n",
       "      <td>1.000000</td>\n",
       "      <td>-0.925016</td>\n",
       "      <td>0.998920</td>\n",
       "      <td>0.981070</td>\n",
       "      <td>0.999874</td>\n",
       "    </tr>\n",
       "    <tr>\n",
       "      <th>ate_val</th>\n",
       "      <td>-0.925016</td>\n",
       "      <td>1.000000</td>\n",
       "      <td>-0.906363</td>\n",
       "      <td>-0.833929</td>\n",
       "      <td>-0.930931</td>\n",
       "    </tr>\n",
       "    <tr>\n",
       "      <th>pehe_val</th>\n",
       "      <td>0.998920</td>\n",
       "      <td>-0.906363</td>\n",
       "      <td>1.000000</td>\n",
       "      <td>0.989008</td>\n",
       "      <td>0.998056</td>\n",
       "    </tr>\n",
       "    <tr>\n",
       "      <th>ate_test</th>\n",
       "      <td>0.981070</td>\n",
       "      <td>-0.833929</td>\n",
       "      <td>0.989008</td>\n",
       "      <td>1.000000</td>\n",
       "      <td>0.977871</td>\n",
       "    </tr>\n",
       "    <tr>\n",
       "      <th>pehe_test</th>\n",
       "      <td>0.999874</td>\n",
       "      <td>-0.930931</td>\n",
       "      <td>0.998056</td>\n",
       "      <td>0.977871</td>\n",
       "      <td>1.000000</td>\n",
       "    </tr>\n",
       "  </tbody>\n",
       "</table>\n",
       "</div>"
      ],
      "text/plain": [
       "            mse_val   ate_val  pehe_val  ate_test  pehe_test\n",
       "mse_val    1.000000 -0.925016  0.998920  0.981070   0.999874\n",
       "ate_val   -0.925016  1.000000 -0.906363 -0.833929  -0.930931\n",
       "pehe_val   0.998920 -0.906363  1.000000  0.989008   0.998056\n",
       "ate_test   0.981070 -0.833929  0.989008  1.000000   0.977871\n",
       "pehe_test  0.999874 -0.930931  0.998056  0.977871   1.000000"
      ]
     },
     "execution_count": 47,
     "metadata": {},
     "output_type": "execute_result"
    }
   ],
   "source": [
    "df_merged[['mse_val', 'ate_val', 'pehe_val', 'ate_test', 'pehe_test']].corr()"
   ]
  },
  {
   "cell_type": "code",
   "execution_count": 48,
   "metadata": {},
   "outputs": [
    {
     "data": {
      "text/plain": [
       "ate_val     -0.925016\n",
       "pehe_val     0.998920\n",
       "ate_test     0.981070\n",
       "pehe_test    0.999874\n",
       "dtype: float64"
      ]
     },
     "execution_count": 48,
     "metadata": {},
     "output_type": "execute_result"
    }
   ],
   "source": [
    "df_merged[['ate_val', 'pehe_val', 'ate_test', 'pehe_test']].corrwith(df_merged['mse_val'])"
   ]
  },
  {
   "cell_type": "code",
   "execution_count": null,
   "metadata": {},
   "outputs": [],
   "source": []
  }
 ],
 "metadata": {
  "interpreter": {
   "hash": "32b8cbadb476d3601dee7a7c36897793fa4ac1e25934ec79cb9f1ee5b85fbbb7"
  },
  "kernelspec": {
   "display_name": "Python 3.8.5 ('causal')",
   "language": "python",
   "name": "python3"
  },
  "language_info": {
   "codemirror_mode": {
    "name": "ipython",
    "version": 3
   },
   "file_extension": ".py",
   "mimetype": "text/x-python",
   "name": "python",
   "nbconvert_exporter": "python",
   "pygments_lexer": "ipython3",
   "version": "3.8.5"
  },
  "orig_nbformat": 4
 },
 "nbformat": 4,
 "nbformat_minor": 2
}
