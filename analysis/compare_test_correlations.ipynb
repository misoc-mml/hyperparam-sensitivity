{
 "cells": [
  {
   "cell_type": "code",
   "execution_count": 1,
   "metadata": {},
   "outputs": [],
   "source": [
    "import pandas as pd"
   ]
  },
  {
   "cell_type": "code",
   "execution_count": 6,
   "metadata": {},
   "outputs": [],
   "source": [
    "def get_corrs(ds):\n",
    "    df_cate = pd.read_csv(f'./tables/{ds}_compare_test_correlations_est.csv')\n",
    "    df_base = pd.read_csv(f'./tables/{ds}_compare_test_correlations_base.csv')\n",
    "    df_all = pd.read_csv(f'./tables/{ds}_compare_test_correlations_all.csv')\n",
    "\n",
    "    df = pd.concat([df_cate, df_base, df_all], axis=0)\n",
    "    df['name'] = df['name'].apply(lambda x: x.upper().replace('_', '-'))\n",
    "\n",
    "    return df"
   ]
  },
  {
   "cell_type": "code",
   "execution_count": 11,
   "metadata": {},
   "outputs": [
    {
     "name": "stdout",
     "output_type": "stream",
     "text": [
      "\\begin{tabular}{llll}\n",
      "\\toprule\n",
      "  name & (ate,pehe)_ihdp &     (att,policy) & (ate,pehe)_twins \\\\\n",
      "\\midrule\n",
      "    SL & $0.874\\pm0.061$ &  $0.056\\pm0.021$ &  $0.294\\pm0.047$ \\\\\n",
      "    TL & $0.757\\pm0.066$ &  $0.082\\pm0.035$ &  $0.122\\pm0.005$ \\\\\n",
      " IPSWS & $0.901\\pm0.031$ &  $0.127\\pm0.105$ &  $0.366\\pm0.011$ \\\\\n",
      "   DRS & $0.644\\pm0.069$ &  $0.054\\pm0.024$ &  $0.772\\pm0.019$ \\\\\n",
      "  DMLS & $0.934\\pm0.037$ & $-0.011\\pm0.047$ &  $0.972\\pm0.001$ \\\\\n",
      "    XL & $0.791\\pm0.031$ &  $0.115\\pm0.041$ & $-0.108\\pm0.066$ \\\\\n",
      "    CF & $0.443\\pm0.155$ &  $0.085\\pm0.161$ &  $0.799\\pm0.127$ \\\\\n",
      "SL-MLP & $0.890\\pm0.042$ &  $0.212\\pm0.111$ &  $0.167\\pm0.026$ \\\\\n",
      "TL-MLP & $0.238\\pm0.088$ &  $0.183\\pm0.114$ &  $0.226\\pm0.025$ \\\\\n",
      "    L1 & $0.855\\pm0.085$ &  $0.305\\pm0.152$ &  $0.906\\pm0.076$ \\\\\n",
      "    L2 & $0.344\\pm0.113$ &  $0.142\\pm0.160$ & $-0.136\\pm0.056$ \\\\\n",
      "    DT & $0.327\\pm0.072$ &  $0.117\\pm0.037$ &  $0.030\\pm0.018$ \\\\\n",
      "    RF & $0.466\\pm0.121$ &  $0.075\\pm0.096$ &  $0.274\\pm0.003$ \\\\\n",
      "    ET & $0.285\\pm0.125$ &  $0.119\\pm0.107$ & $-0.101\\pm0.013$ \\\\\n",
      "    KR & $0.558\\pm0.035$ &  $0.014\\pm0.019$ &  $0.032\\pm0.003$ \\\\\n",
      "    CB & $0.475\\pm0.059$ &  $0.037\\pm0.098$ &  $0.072\\pm0.021$ \\\\\n",
      "  LGBM & $0.387\\pm0.087$ &  $0.039\\pm0.071$ &  $0.023\\pm0.067$ \\\\\n",
      "   MLP & $0.337\\pm0.067$ &  $0.182\\pm0.114$ &  $0.241\\pm0.023$ \\\\\n",
      "   ALL & $0.660\\pm0.048$ &  $0.022\\pm0.011$ &  $0.148\\pm0.003$ \\\\\n",
      "\\bottomrule\n",
      "\\end{tabular}\n",
      "\n"
     ]
    }
   ],
   "source": [
    "df_ihdp = get_corrs('ihdp')\n",
    "df_jobs = get_corrs('jobs')\n",
    "df_twins = get_corrs('twins')\n",
    "\n",
    "df_all = df_ihdp.merge(df_jobs, on='name').merge(df_twins, on='name', suffixes=['_ihdp', '_twins'])\n",
    "\n",
    "print(df_all.to_latex(index=False, escape=False))"
   ]
  },
  {
   "cell_type": "markdown",
   "metadata": {},
   "source": []
  }
 ],
 "metadata": {
  "kernelspec": {
   "display_name": "Python 3.9.7 ('tf-gpu')",
   "language": "python",
   "name": "python3"
  },
  "language_info": {
   "codemirror_mode": {
    "name": "ipython",
    "version": 3
   },
   "file_extension": ".py",
   "mimetype": "text/x-python",
   "name": "python",
   "nbconvert_exporter": "python",
   "pygments_lexer": "ipython3",
   "version": "3.9.7"
  },
  "orig_nbformat": 4,
  "vscode": {
   "interpreter": {
    "hash": "b92bf4d768b2900bfdb0d55b9270dc3e0484f7baa07f8baf2ad16a5c3cba66ac"
   }
  }
 },
 "nbformat": 4,
 "nbformat_minor": 2
}
