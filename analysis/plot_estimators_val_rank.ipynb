{
 "cells": [
  {
   "cell_type": "code",
   "execution_count": 1,
   "metadata": {
    "metadata": {}
   },
   "outputs": [],
   "source": [
    "import numpy as np\n",
    "import pandas as pd\n",
    "import matplotlib.pyplot as plt\n",
    "import seaborn as sns"
   ]
  },
  {
   "cell_type": "markdown",
   "metadata": {},
   "source": [
    "By the way, a good estimate of the Monte Carlo bounds for a simulation study is based on that the replications of Y_i = I(Method does better than state of the art for data set i) = 1 if true or 0 otherwise is because the N = 40 data sets are Binomial(N, \\pi) where \\pi = Pr(Better than state of the art) and N is the number of data sets.  The variance of p = \\sum Y_i / N [i.e. the proportion of times the method at least equals SotA performance] is (1 - \\pi)\\pi / N which can be estimated by (1 – p)p/N.  So you can construct an approximately normal interval around p by using ( p - 1.96 x sqrt{ (1 – p)p / N}, p + 1.96 x sqrt{(1 – p)p / N}  ).  \n",
    "\n",
    "(See 9.1.27 and 9.1.29 here https://stats.libretexts.org/Bookshelves/Probability_Theory/Introductory_Probability_(Grinstead_and_Snell)/09%3A_Central_Limit_Theorem/9.01%3A_Central_Limit_Theorem_for_Bernoulli_Trials).\n",
    "\n",
    "$$p = \\frac{S_n}{N}$$\n",
    "$$\\sigma^2 = \\frac{(1-p)p}{N}$$\n",
    "$$\\sigma = \\sqrt{\\frac{(1-p)p}{N}}$$\n",
    "$$(p - 1.96 \\times \\sqrt{\\frac{(1-p)p}{N}}) < p < (p + 1.96 \\times \\sqrt{\\frac{(1-p)p}{N}})$$\n",
    "$$(p - 1.96 \\times \\sigma) < p < (p + 1.96 \\times \\sigma)$$"
   ]
  },
  {
   "cell_type": "code",
   "execution_count": 63,
   "metadata": {
    "metadata": {}
   },
   "outputs": [],
   "source": [
    "def get_win_count(df, metric, threshold):\n",
    "    iter_gr = df.groupby(['iter_id'], as_index=False)[[f'{metric}_val', f'{metric}_test']]\n",
    "    iter_perfs = iter_gr.apply(lambda x: x.loc[x[f'{metric}_val'].idxmin(), [f'{metric}_test']])[f'{metric}_test'].to_numpy()\n",
    "    return np.sum(iter_perfs <= threshold)\n",
    "\n",
    "def parse_est_name(name):\n",
    "    name = name.upper()\n",
    "    if name == 'IPSWS':\n",
    "        return 'IPSW'\n",
    "    elif name == 'DRS':\n",
    "        return 'DR'\n",
    "    elif name == 'DMLS':\n",
    "        return 'DML'\n",
    "    else:\n",
    "        return name\n",
    "    \n",
    "def parse_base_name(name):\n",
    "    name = name.upper()\n",
    "    if name == 'MLP':\n",
    "        return 'NN'\n",
    "    else:\n",
    "        return name\n",
    "\n",
    "def get_avg_probs(datasets, metrics, thresholds, estimators, base_learners):\n",
    "    iter_per_dataset = 10\n",
    "    n_dataset = len(datasets)\n",
    "    mc_n = n_dataset * iter_per_dataset\n",
    "    result = []\n",
    "    for est in estimators:\n",
    "        if est == 'cf':\n",
    "            est_wins = 0\n",
    "            for ds, metric, thr in zip(datasets, metrics, thresholds):\n",
    "                df_test = pd.read_csv(f'../results/metrics_val/{ds}/{est}/{est}_test_metrics.csv')\n",
    "                df_val = pd.read_csv(f'../results/metrics_val/{ds}/{est}/{est}_val_metrics.csv')\n",
    "                df_val_gr = df_val.groupby(['iter_id', 'param_id'], as_index=False).mean().drop(columns=['fold_id'])\n",
    "                df_base = df_val_gr.merge(df_test, on=['iter_id', 'param_id'], suffixes=['_val', '_test'])\n",
    "\n",
    "                est_wins += get_win_count(df_base, metric, thr)\n",
    "            win_prob = est_wins / mc_n\n",
    "            var = ((1.0 - win_prob) * win_prob) / mc_n\n",
    "            err = 1.96 * np.sqrt(var)\n",
    "            result.append([parse_est_name(est), None, win_prob, err])\n",
    "        else:\n",
    "            for bl in base_learners:\n",
    "                model_name = f'{est}_{bl}'\n",
    "\n",
    "                est_wins = 0\n",
    "                for ds, metric, thr in zip(datasets, metrics, thresholds):\n",
    "                    try:\n",
    "                        df_test = pd.read_csv(f'../results/metrics_val/{ds}/{model_name}/{model_name}_test_metrics.csv')\n",
    "                        df_val = pd.read_csv(f'../results/metrics_val/{ds}/{model_name}/{model_name}_val_metrics.csv')\n",
    "                        df_val_gr = df_val.groupby(['iter_id', 'param_id'], as_index=False).mean().drop(columns=['fold_id'])\n",
    "                        df_base = df_val_gr.merge(df_test, on=['iter_id', 'param_id'], suffixes=['_val', '_test'])\n",
    "\n",
    "                        est_wins += get_win_count(df_base, metric, thr)\n",
    "                    except:\n",
    "                        #print(f'Missing {model_name}')\n",
    "                        continue\n",
    "                win_prob = est_wins / mc_n\n",
    "                var = ((1.0 - win_prob) * win_prob) / mc_n\n",
    "                err = 1.96 * np.sqrt(var)\n",
    "                result.append([parse_est_name(est), parse_base_name(bl), win_prob, err])\n",
    "    \n",
    "    cols = ['estimator', 'base learner', 'prob', 'err']\n",
    "    df = pd.DataFrame(result, columns=cols)\n",
    "\n",
    "    return df\n",
    "\n",
    "def get_probs_est(datasets, metrics, thresholds, estimators, base_learners):\n",
    "    iter_per_dataset = 10\n",
    "    n_dataset = len(datasets)\n",
    "    mc_n = n_dataset * iter_per_dataset\n",
    "    result = []\n",
    "    for est in estimators:\n",
    "        if est == 'cf':\n",
    "            est_wins = 0\n",
    "            for ds, metric, thr in zip(datasets, metrics, thresholds):\n",
    "                df_test = pd.read_csv(f'../results/metrics_val/{ds}/{est}/{est}_test_metrics.csv')\n",
    "                df_val = pd.read_csv(f'../results/metrics_val/{ds}/{est}/{est}_val_metrics.csv')\n",
    "                df_val_gr = df_val.groupby(['iter_id', 'param_id'], as_index=False).mean().drop(columns=['fold_id'])\n",
    "                df_base = df_val_gr.merge(df_test, on=['iter_id', 'param_id'], suffixes=['_val', '_test'])\n",
    "\n",
    "                est_wins += get_win_count(df_base, metric, thr)\n",
    "            win_prob = est_wins / mc_n\n",
    "            var = ((1.0 - win_prob) * win_prob) / mc_n\n",
    "            err = 1.96 * np.sqrt(var)\n",
    "            result.append([parse_est_name(est), win_prob, err])\n",
    "        else:\n",
    "            est_wins = 0\n",
    "            mc_n_est = 0\n",
    "            for bl in base_learners:\n",
    "                model_name = f'{est}_{bl}'\n",
    "                for ds, metric, thr in zip(datasets, metrics, thresholds):\n",
    "                    try:\n",
    "                        df_test = pd.read_csv(f'../results/metrics_val/{ds}/{model_name}/{model_name}_test_metrics.csv')\n",
    "                        df_val = pd.read_csv(f'../results/metrics_val/{ds}/{model_name}/{model_name}_val_metrics.csv')\n",
    "                        df_val_gr = df_val.groupby(['iter_id', 'param_id'], as_index=False).mean().drop(columns=['fold_id'])\n",
    "                        df_base = df_val_gr.merge(df_test, on=['iter_id', 'param_id'], suffixes=['_val', '_test'])\n",
    "\n",
    "                        est_wins += get_win_count(df_base, metric, thr)\n",
    "                        mc_n_est += iter_per_dataset\n",
    "                    except:\n",
    "                        continue\n",
    "            win_prob = est_wins / mc_n_est\n",
    "            var = ((1.0 - win_prob) * win_prob) / mc_n_est\n",
    "            err = 1.96 * np.sqrt(var)\n",
    "            result.append([parse_est_name(est), win_prob, err])\n",
    "    \n",
    "    cols = ['estimator', 'prob', 'err']\n",
    "    df = pd.DataFrame(result, columns=cols)\n",
    "\n",
    "    return df"
   ]
  },
  {
   "cell_type": "code",
   "execution_count": 17,
   "metadata": {
    "metadata": {}
   },
   "outputs": [],
   "source": [
    "ihdp_ate_upper = 0.46\n",
    "ihdp_ate_lower = 0.2\n",
    "ihdp_pehe_upper = 2.6\n",
    "ihdp_pehe_lower = 0.656\n",
    "\n",
    "jobs_att_upper = 0.11\n",
    "jobs_att_lower = 0.03\n",
    "jobs_pol_upper = 0.26\n",
    "jobs_pol_lower = 0.14\n",
    "\n",
    "twins_pehe_upper = 0.315\n",
    "twins_pehe_lower = 0.297\n",
    "\n",
    "news_ate_upper = 0.6\n",
    "news_ate_lower = 0.3\n",
    "news_pehe_upper = 3.4\n",
    "news_pehe_lower = 2.0\n",
    "\n",
    "avg_upper = [ihdp_ate_upper, jobs_att_upper, news_ate_upper]\n",
    "avg_lower = [ihdp_ate_lower, jobs_att_lower, news_ate_lower]\n",
    "\n",
    "ind_upper = [ihdp_pehe_upper, jobs_pol_upper, twins_pehe_upper, news_pehe_upper]\n",
    "ind_lower = [ihdp_pehe_lower, jobs_pol_lower, twins_pehe_lower, news_pehe_lower]"
   ]
  },
  {
   "cell_type": "code",
   "execution_count": 52,
   "metadata": {
    "metadata": {}
   },
   "outputs": [
    {
     "name": "stdout",
     "output_type": "stream",
     "text": [
      "Missing ipsws_l2\n",
      "Missing ipsws_et\n",
      "Missing ipsws_kr\n",
      "Missing ipsws_kr\n",
      "Missing ipsws_mlp\n",
      "Missing ipsws_mlp\n",
      "Missing ipsws_mlp\n",
      "Missing dmls_mlp\n",
      "Missing dmls_mlp\n",
      "Missing dmls_mlp\n",
      "Missing drs_mlp\n",
      "Missing drs_mlp\n",
      "Missing drs_mlp\n",
      "Missing xl_mlp\n",
      "Missing xl_mlp\n",
      "Missing xl_mlp\n",
      "Missing ipsws_l2\n",
      "Missing ipsws_l2\n",
      "Missing ipsws_et\n",
      "Missing ipsws_kr\n",
      "Missing ipsws_kr\n",
      "Missing ipsws_kr\n",
      "Missing ipsws_mlp\n",
      "Missing ipsws_mlp\n",
      "Missing ipsws_mlp\n",
      "Missing ipsws_mlp\n",
      "Missing dmls_mlp\n",
      "Missing dmls_mlp\n",
      "Missing dmls_mlp\n",
      "Missing dmls_mlp\n",
      "Missing drs_mlp\n",
      "Missing drs_mlp\n",
      "Missing drs_mlp\n",
      "Missing drs_mlp\n",
      "Missing xl_mlp\n",
      "Missing xl_mlp\n",
      "Missing xl_mlp\n",
      "Missing xl_mlp\n"
     ]
    },
    {
     "data": {
      "text/plain": [
       "<ErrorbarContainer object of 3 artists>"
      ]
     },
     "execution_count": 52,
     "metadata": {},
     "output_type": "execute_result"
    },
    {
     "data": {
      "image/png": "[encoded data removed]",
      "text/plain": [
       "<Figure size 640x480 with 1 Axes>"
      ]
     },
     "metadata": {},
     "output_type": "display_data"
    }
   ],
   "source": [
    "estimators = ['sl', 'tl', 'ipsws', 'dmls', 'drs', 'xl', 'cf']\n",
    "base_learners = ['l1', 'l2', 'dt', 'rf', 'et', 'kr', 'lgbm', 'cb', 'mlp']\n",
    "#estimators = ['sl', 'cf']\n",
    "#base_learners = ['l1', 'l2']\n",
    "\n",
    "datasets = ['ihdp', 'jobs', 'news']\n",
    "metrics = ['ate', 'att', 'ate']\n",
    "\n",
    "df_avg_match_sota = get_avg_probs(datasets, metrics, avg_upper, estimators, base_learners)\n",
    "#df_avg_match_sota\n",
    "\n",
    "datasets = ['ihdp', 'jobs', 'twins', 'news']\n",
    "metrics = ['pehe', 'policy', 'pehe', 'pehe']\n",
    "\n",
    "df_ind_match_sota = get_avg_probs(datasets, metrics, ind_upper, estimators, base_learners)\n",
    "#df_ind_match_sota\n",
    "\n",
    "df_match_sota = df_avg_match_sota.merge(df_ind_match_sota, on=['estimator', 'base learner'], suffixes=['_avg', '_ind'])\n",
    "#df_match_sota\n",
    "\n",
    "plt.errorbar(df_match_sota['prob_avg'], df_match_sota['prob_ind'], xerr=df_match_sota['err_avg'], yerr=df_match_sota['err_ind'], fmt='o', capsize=5)"
   ]
  },
  {
   "cell_type": "code",
   "execution_count": 55,
   "metadata": {
    "metadata": {}
   },
   "outputs": [],
   "source": [
    "df_match_sota.to_csv(\"./tables/prob_match_sota.csv\", index=False)"
   ]
  },
  {
   "cell_type": "code",
   "execution_count": 64,
   "metadata": {
    "metadata": {}
   },
   "outputs": [],
   "source": [
    "estimators = ['sl', 'tl', 'ipsws', 'dmls', 'drs', 'xl', 'cf']\n",
    "base_learners = ['l1', 'l2', 'dt', 'rf', 'et', 'kr', 'lgbm', 'cb', 'mlp']\n",
    "#estimators = ['sl', 'cf']\n",
    "#base_learners = ['l1', 'l2']\n",
    "\n",
    "datasets = ['ihdp', 'jobs', 'news']\n",
    "metrics = ['ate', 'att', 'ate']\n",
    "\n",
    "df_avg_match_sota = get_probs_est(datasets, metrics, avg_upper, estimators, base_learners)\n",
    "#df_avg_match_sota\n",
    "\n",
    "datasets = ['ihdp', 'jobs', 'twins', 'news']\n",
    "metrics = ['pehe', 'policy', 'pehe', 'pehe']\n",
    "\n",
    "df_ind_match_sota = get_probs_est(datasets, metrics, ind_upper, estimators, base_learners)\n",
    "#df_ind_match_sota\n",
    "\n",
    "df_match_sota = df_avg_match_sota.merge(df_ind_match_sota, on=['estimator'], suffixes=['_avg', '_ind'])\n",
    "#df_match_sota"
   ]
  },
  {
   "cell_type": "code",
   "execution_count": 65,
   "metadata": {
    "metadata": {}
   },
   "outputs": [
    {
     "data": {
      "text/plain": [
       "<ErrorbarContainer object of 3 artists>"
      ]
     },
     "execution_count": 65,
     "metadata": {},
     "output_type": "execute_result"
    },
    {
     "data": {
      "image/png": "[encoded data removed]",
      "text/plain": [
       "<Figure size 640x480 with 1 Axes>"
      ]
     },
     "metadata": {},
     "output_type": "display_data"
    }
   ],
   "source": [
    "plt.errorbar(df_match_sota['prob_avg'], df_match_sota['prob_ind'], xerr=df_match_sota['err_avg'], yerr=df_match_sota['err_ind'], fmt='o', capsize=5)"
   ]
  },
  {
   "cell_type": "code",
   "execution_count": 66,
   "metadata": {
    "metadata": {}
   },
   "outputs": [
    {
     "data": {
      "text/html": [
       "<div>\n",
       "<style scoped>\n",
       "    .dataframe tbody tr th:only-of-type {\n",
       "        vertical-align: middle;\n",
       "    }\n",
       "\n",
       "    .dataframe tbody tr th {\n",
       "        vertical-align: top;\n",
       "    }\n",
       "\n",
       "    .dataframe thead th {\n",
       "        text-align: right;\n",
       "    }\n",
       "</style>\n",
       "<table border=\"1\" class=\"dataframe\">\n",
       "  <thead>\n",
       "    <tr style=\"text-align: right;\">\n",
       "      <th></th>\n",
       "      <th>estimator</th>\n",
       "      <th>prob_avg</th>\n",
       "      <th>err_avg</th>\n",
       "      <th>prob_ind</th>\n",
       "      <th>err_ind</th>\n",
       "    </tr>\n",
       "  </thead>\n",
       "  <tbody>\n",
       "    <tr>\n",
       "      <th>0</th>\n",
       "      <td>SL</td>\n",
       "      <td>0.777778</td>\n",
       "      <td>0.049590</td>\n",
       "      <td>0.561111</td>\n",
       "      <td>0.051263</td>\n",
       "    </tr>\n",
       "    <tr>\n",
       "      <th>1</th>\n",
       "      <td>TL</td>\n",
       "      <td>0.796296</td>\n",
       "      <td>0.048041</td>\n",
       "      <td>0.588889</td>\n",
       "      <td>0.050828</td>\n",
       "    </tr>\n",
       "    <tr>\n",
       "      <th>2</th>\n",
       "      <td>IPSW</td>\n",
       "      <td>0.850000</td>\n",
       "      <td>0.049488</td>\n",
       "      <td>0.619231</td>\n",
       "      <td>0.059024</td>\n",
       "    </tr>\n",
       "    <tr>\n",
       "      <th>3</th>\n",
       "      <td>DML</td>\n",
       "      <td>0.850000</td>\n",
       "      <td>0.045176</td>\n",
       "      <td>0.528125</td>\n",
       "      <td>0.054697</td>\n",
       "    </tr>\n",
       "    <tr>\n",
       "      <th>4</th>\n",
       "      <td>DR</td>\n",
       "      <td>0.750000</td>\n",
       "      <td>0.054784</td>\n",
       "      <td>0.537500</td>\n",
       "      <td>0.054629</td>\n",
       "    </tr>\n",
       "    <tr>\n",
       "      <th>5</th>\n",
       "      <td>XL</td>\n",
       "      <td>0.841667</td>\n",
       "      <td>0.046186</td>\n",
       "      <td>0.596875</td>\n",
       "      <td>0.053746</td>\n",
       "    </tr>\n",
       "    <tr>\n",
       "      <th>6</th>\n",
       "      <td>CF</td>\n",
       "      <td>0.800000</td>\n",
       "      <td>0.143138</td>\n",
       "      <td>0.625000</td>\n",
       "      <td>0.150031</td>\n",
       "    </tr>\n",
       "  </tbody>\n",
       "</table>\n",
       "</div>"
      ],
      "text/plain": [
       "  estimator  prob_avg   err_avg  prob_ind   err_ind\n",
       "0        SL  0.777778  0.049590  0.561111  0.051263\n",
       "1        TL  0.796296  0.048041  0.588889  0.050828\n",
       "2      IPSW  0.850000  0.049488  0.619231  0.059024\n",
       "3       DML  0.850000  0.045176  0.528125  0.054697\n",
       "4        DR  0.750000  0.054784  0.537500  0.054629\n",
       "5        XL  0.841667  0.046186  0.596875  0.053746\n",
       "6        CF  0.800000  0.143138  0.625000  0.150031"
      ]
     },
     "execution_count": 66,
     "metadata": {},
     "output_type": "execute_result"
    }
   ],
   "source": [
    "df_match_sota"
   ]
  }
 ],
 "metadata": {
  "kernelspec": {
   "display_name": "crunch",
   "language": "python",
   "name": "python3"
  },
  "language_info": {
   "codemirror_mode": {
    "name": "ipython",
    "version": 3
   },
   "file_extension": ".py",
   "mimetype": "text/x-python",
   "name": "python",
   "nbconvert_exporter": "python",
   "pygments_lexer": "ipython3",
   "version": "3.12.5"
  }
 },
 "nbformat": 4,
 "nbformat_minor": 2
}
