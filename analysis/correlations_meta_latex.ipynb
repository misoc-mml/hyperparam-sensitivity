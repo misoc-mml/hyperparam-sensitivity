{
 "cells": [
  {
   "cell_type": "code",
   "execution_count": 1,
   "metadata": {},
   "outputs": [],
   "source": [
    "import pandas as pd"
   ]
  },
  {
   "cell_type": "code",
   "execution_count": 2,
   "metadata": {},
   "outputs": [],
   "source": [
    "def show_all(df, metric, plugin_metrics, plugin_models, matching_ks, rscore_models):\n",
    "    plugin_cols = [f'{metric}_{pm}_{plugin_metric}' for plugin_metric in plugin_metrics for pm in plugin_models]\n",
    "    matching_cols = [f'{metric}_match_{k}k_{plugin_metric}' for plugin_metric in plugin_metrics for k in matching_ks]\n",
    "    rscore_cols = [f'{metric}_rs_{rs_bm}' for rs_bm in rscore_models]\n",
    "    cols = ['name', f'{metric}_mse', f'{metric}_r2'] + plugin_cols + matching_cols + rscore_cols\n",
    "    return df[cols]\n",
    "\n",
    "def show_all_jobs(df, metric, plugin_metrics, plugin_models, matching_ks, rscore_models):\n",
    "    plugin_cols = [f'{metric}_{pm}_{plugin_metric}' for plugin_metric in plugin_metrics for pm in plugin_models]\n",
    "    matching_cols = [f'{metric}_match_{k}k_{plugin_metric}' for plugin_metric in plugin_metrics for k in matching_ks]\n",
    "    rscore_cols = [f'{metric}_rs_{rs_bm}' for rs_bm in rscore_models]\n",
    "    cols = ['name', f'{metric}_mse', f'{metric}_r2', f'{metric}_pol'] + plugin_cols + matching_cols + rscore_cols\n",
    "    return df[cols]"
   ]
  },
  {
   "attachments": {},
   "cell_type": "markdown",
   "metadata": {},
   "source": [
    "# IHDP"
   ]
  },
  {
   "cell_type": "code",
   "execution_count": 3,
   "metadata": {},
   "outputs": [],
   "source": [
    "plugin_meta_models = ['sl', 'tl']\n",
    "plugin_base_models = ['dt', 'lgbm', 'kr']\n",
    "plugin_models = [f'{pmm}_{pbm}' for pmm in plugin_meta_models for pbm in plugin_base_models]\n",
    "matching_ks = [1, 3, 5]\n",
    "rscore_base_models = ['dt', 'lgbm', 'kr']\n",
    "\n",
    "ds = 'ihdp'\n",
    "avg_metric = 'ate'\n",
    "ite_metric = 'pehe'"
   ]
  },
  {
   "cell_type": "code",
   "execution_count": 4,
   "metadata": {},
   "outputs": [
    {
     "name": "stdout",
     "output_type": "stream",
     "text": [
      "\\begin{tabular}{lll}\n",
      "\\toprule\n",
      "    selection &          all_ate &         all_pehe \\\\\n",
      "\\midrule\n",
      "          MSE &  $0.774\\pm0.071$ &  $0.907\\pm0.019$ \\\\\n",
      "           R2 & $-0.908\\pm0.019$ & $-0.737\\pm0.096$ \\\\\n",
      "    SL-DT-ATE &  $0.749\\pm0.148$ &  $0.582\\pm0.062$ \\\\\n",
      "  SL-LGBM-ATE & $-0.866\\pm0.056$ & $-0.458\\pm0.094$ \\\\\n",
      "    SL-KR-ATE &  $0.718\\pm0.107$ &  $0.505\\pm0.042$ \\\\\n",
      "    TL-DT-ATE &  $0.954\\pm0.017$ &  $0.613\\pm0.049$ \\\\\n",
      "  TL-LGBM-ATE &  $0.954\\pm0.016$ &  $0.611\\pm0.048$ \\\\\n",
      "    TL-KR-ATE &  $0.945\\pm0.013$ &  $0.594\\pm0.045$ \\\\\n",
      "   SL-DT-PEHE &  $0.544\\pm0.101$ &  $0.712\\pm0.119$ \\\\\n",
      " SL-LGBM-PEHE & $-0.532\\pm0.085$ & $-0.080\\pm0.083$ \\\\\n",
      "   SL-KR-PEHE &  $0.408\\pm0.076$ &  $0.635\\pm0.115$ \\\\\n",
      "   TL-DT-PEHE &  $0.640\\pm0.060$ &  $0.810\\pm0.061$ \\\\\n",
      " TL-LGBM-PEHE &  $0.620\\pm0.064$ &  $0.786\\pm0.071$ \\\\\n",
      "   TL-KR-PEHE &  $0.616\\pm0.048$ &  $0.883\\pm0.023$ \\\\\n",
      " MATCH-1K-ATE &  $0.954\\pm0.017$ &  $0.599\\pm0.054$ \\\\\n",
      " MATCH-3K-ATE &  $0.956\\pm0.015$ &  $0.608\\pm0.050$ \\\\\n",
      " MATCH-5K-ATE &  $0.957\\pm0.015$ &  $0.607\\pm0.051$ \\\\\n",
      "MATCH-1K-PEHE &  $0.629\\pm0.054$ &  $0.895\\pm0.020$ \\\\\n",
      "MATCH-3K-PEHE &  $0.639\\pm0.055$ &  $0.900\\pm0.021$ \\\\\n",
      "MATCH-5K-PEHE &  $0.643\\pm0.055$ &  $0.900\\pm0.021$ \\\\\n",
      "        RS-DT & $-0.161\\pm0.037$ & $-0.556\\pm0.058$ \\\\\n",
      "      RS-LGBM & $-0.199\\pm0.050$ & $-0.571\\pm0.060$ \\\\\n",
      "        RS-KR & $-0.210\\pm0.048$ & $-0.592\\pm0.055$ \\\\\n",
      "\\bottomrule\n",
      "\\end{tabular}\n",
      "\n"
     ]
    }
   ],
   "source": [
    "df_all = pd.read_csv(f'./tables/{ds}_compare_correlations_all.csv')\n",
    "\n",
    "df_ate = show_all(df_all, avg_metric, ['ate', 'pehe'], plugin_models, matching_ks, rscore_base_models)\n",
    "df_pehe = show_all(df_all, ite_metric, ['ate', 'pehe'], plugin_models, matching_ks, rscore_base_models)\n",
    "\n",
    "selection_models = [f'{pmm}_{pbm}_{pm}' for pmm in plugin_meta_models for pbm in plugin_base_models for pm in ['ate', 'pehe']] + [f'match_{k}k_{pm}' for k in matching_ks for pm in ['ate', 'pehe']] + [f'rs_{rbm}' for rbm in rscore_base_models]\n",
    "d_ate = {f'{avg_metric}_mse': 'mse', f'{avg_metric}_r2': 'r2'}\n",
    "d_pehe = {f'{ite_metric}_mse': 'mse', f'{ite_metric}_r2': 'r2'}\n",
    "for sm in selection_models:\n",
    "    d_ate[f'{avg_metric}_{sm}'] = sm\n",
    "    d_pehe[f'{ite_metric}_{sm}'] = sm\n",
    "\n",
    "df_ate = df_ate.rename(columns=d_ate)\n",
    "df_pehe = df_pehe.rename(columns=d_pehe)\n",
    "\n",
    "df_ate = df_ate.set_index('name').T\n",
    "df_pehe = df_pehe.set_index('name').T\n",
    "\n",
    "df_ihdp = df_ate.merge(df_pehe, left_index=True, right_index=True, suffixes=['_ate', '_pehe']).reset_index()\n",
    "\n",
    "df_ihdp['selection'] = df_ihdp['index'].apply(lambda x: x.upper().replace('_', '-'))\n",
    "print(df_ihdp[['selection', 'all_ate', 'all_pehe']].to_latex(index=False, escape=False))\n"
   ]
  },
  {
   "attachments": {},
   "cell_type": "markdown",
   "metadata": {},
   "source": [
    "# Jobs"
   ]
  },
  {
   "cell_type": "code",
   "execution_count": 5,
   "metadata": {},
   "outputs": [],
   "source": [
    "plugin_meta_models = ['sl', 'tl']\n",
    "plugin_base_models = ['dt', 'lgbm', 'kr']\n",
    "plugin_models = [f'{pmm}_{pbm}' for pmm in plugin_meta_models for pbm in plugin_base_models]\n",
    "matching_ks = [1, 3, 5]\n",
    "rscore_base_models = ['dt', 'lgbm', 'kr']\n",
    "\n",
    "ds = 'jobs'\n",
    "avg_metric = 'att'\n",
    "ite_metric = 'policy'"
   ]
  },
  {
   "cell_type": "code",
   "execution_count": 6,
   "metadata": {},
   "outputs": [
    {
     "name": "stdout",
     "output_type": "stream",
     "text": [
      "\\begin{tabular}{lll}\n",
      "\\toprule\n",
      "    selection &          all_att &          all_pol \\\\\n",
      "\\midrule\n",
      "          MSE &  $0.051\\pm0.007$ &  $0.080\\pm0.020$ \\\\\n",
      "           R2 & $-0.048\\pm0.006$ & $-0.079\\pm0.020$ \\\\\n",
      "          POL &  $0.023\\pm0.005$ &  $0.289\\pm0.074$ \\\\\n",
      "    SL-DT-ATE &  $0.530\\pm0.073$ &  $0.014\\pm0.008$ \\\\\n",
      "  SL-LGBM-ATE &  $0.530\\pm0.073$ &  $0.014\\pm0.008$ \\\\\n",
      "    SL-KR-ATE &  $0.530\\pm0.073$ &  $0.014\\pm0.008$ \\\\\n",
      "    TL-DT-ATE &  $0.530\\pm0.073$ &  $0.014\\pm0.008$ \\\\\n",
      "  TL-LGBM-ATE &  $0.530\\pm0.073$ &  $0.014\\pm0.008$ \\\\\n",
      "    TL-KR-ATE &  $0.530\\pm0.073$ &  $0.014\\pm0.008$ \\\\\n",
      "   SL-DT-PEHE &  $0.505\\pm0.064$ &  $0.011\\pm0.006$ \\\\\n",
      " SL-LGBM-PEHE &  $0.505\\pm0.064$ &  $0.011\\pm0.006$ \\\\\n",
      "   SL-KR-PEHE &  $0.505\\pm0.064$ &  $0.011\\pm0.006$ \\\\\n",
      "   TL-DT-PEHE &  $0.505\\pm0.064$ &  $0.011\\pm0.006$ \\\\\n",
      " TL-LGBM-PEHE &  $0.505\\pm0.064$ &  $0.011\\pm0.006$ \\\\\n",
      "   TL-KR-PEHE &  $0.505\\pm0.064$ &  $0.011\\pm0.006$ \\\\\n",
      " MATCH-1K-ATE &  $0.530\\pm0.073$ &  $0.014\\pm0.008$ \\\\\n",
      " MATCH-3K-ATE &  $0.530\\pm0.073$ &  $0.014\\pm0.008$ \\\\\n",
      " MATCH-5K-ATE &  $0.530\\pm0.073$ &  $0.014\\pm0.008$ \\\\\n",
      "MATCH-1K-PEHE &  $0.505\\pm0.064$ &  $0.011\\pm0.006$ \\\\\n",
      "MATCH-3K-PEHE &  $0.505\\pm0.064$ &  $0.011\\pm0.006$ \\\\\n",
      "MATCH-5K-PEHE &  $0.505\\pm0.064$ &  $0.011\\pm0.006$ \\\\\n",
      "        RS-DT & $-0.566\\pm0.112$ & $-0.003\\pm0.002$ \\\\\n",
      "      RS-LGBM & $-0.501\\pm0.097$ & $-0.004\\pm0.001$ \\\\\n",
      "        RS-KR & $-0.615\\pm0.103$ & $-0.002\\pm0.001$ \\\\\n",
      "\\bottomrule\n",
      "\\end{tabular}\n",
      "\n"
     ]
    }
   ],
   "source": [
    "df_all = pd.read_csv(f'./tables/{ds}_compare_correlations_all.csv')\n",
    "\n",
    "df_ate = show_all_jobs(df_all, avg_metric, ['ate', 'pehe'], plugin_models, matching_ks, rscore_base_models)\n",
    "df_pehe = show_all_jobs(df_all, ite_metric, ['ate', 'pehe'], plugin_models, matching_ks, rscore_base_models)\n",
    "\n",
    "selection_models = [f'{pmm}_{pbm}_{pm}' for pmm in plugin_meta_models for pbm in plugin_base_models for pm in ['ate', 'pehe']] + [f'match_{k}k_{pm}' for k in matching_ks for pm in ['ate', 'pehe']] + [f'rs_{rbm}' for rbm in rscore_base_models]\n",
    "d_ate = {f'{avg_metric}_mse': 'mse', f'{avg_metric}_r2': 'r2', f'{avg_metric}_pol': 'pol'}\n",
    "d_pehe = {f'{ite_metric}_mse': 'mse', f'{ite_metric}_r2': 'r2', f'{ite_metric}_pol': 'pol'}\n",
    "for sm in selection_models:\n",
    "    d_ate[f'{avg_metric}_{sm}'] = sm\n",
    "    d_pehe[f'{ite_metric}_{sm}'] = sm\n",
    "\n",
    "df_ate = df_ate.rename(columns=d_ate)\n",
    "df_pehe = df_pehe.rename(columns=d_pehe)\n",
    "\n",
    "df_ate = df_ate.set_index('name').T\n",
    "df_pehe = df_pehe.set_index('name').T\n",
    "\n",
    "df_jobs = df_ate.merge(df_pehe, left_index=True, right_index=True, suffixes=['_att', '_pol']).reset_index()\n",
    "\n",
    "df_jobs['selection'] = df_jobs['index'].apply(lambda x: x.upper().replace('_', '-'))\n",
    "print(df_jobs[['selection', 'all_att', 'all_pol']].to_latex(index=False, escape=False))\n"
   ]
  },
  {
   "attachments": {},
   "cell_type": "markdown",
   "metadata": {},
   "source": [
    "# Twins"
   ]
  },
  {
   "cell_type": "code",
   "execution_count": 7,
   "metadata": {},
   "outputs": [],
   "source": [
    "plugin_meta_models = ['sl', 'tl']\n",
    "plugin_base_models = ['dt', 'lgbm', 'kr']\n",
    "plugin_models = [f'{pmm}_{pbm}' for pmm in plugin_meta_models for pbm in plugin_base_models]\n",
    "matching_ks = [1, 3, 5]\n",
    "rscore_base_models = ['dt', 'lgbm', 'kr']\n",
    "\n",
    "ds = 'twins'\n",
    "avg_metric = 'ate'\n",
    "ite_metric = 'pehe'"
   ]
  },
  {
   "cell_type": "code",
   "execution_count": 8,
   "metadata": {},
   "outputs": [
    {
     "name": "stdout",
     "output_type": "stream",
     "text": [
      "\\begin{tabular}{lll}\n",
      "\\toprule\n",
      "    selection &          all_ate &         all_pehe \\\\\n",
      "\\midrule\n",
      "          MSE &  $0.080\\pm0.008$ &  $0.968\\pm0.011$ \\\\\n",
      "           R2 & $-0.076\\pm0.007$ & $-0.969\\pm0.010$ \\\\\n",
      "    SL-DT-ATE &  $0.286\\pm0.068$ &  $0.520\\pm0.039$ \\\\\n",
      "  SL-LGBM-ATE &  $0.309\\pm0.062$ &  $0.538\\pm0.030$ \\\\\n",
      "    SL-KR-ATE &  $0.316\\pm0.070$ &  $0.535\\pm0.032$ \\\\\n",
      "    TL-DT-ATE &  $0.283\\pm0.048$ &  $0.541\\pm0.028$ \\\\\n",
      "  TL-LGBM-ATE &  $0.294\\pm0.056$ &  $0.541\\pm0.030$ \\\\\n",
      "    TL-KR-ATE &  $0.288\\pm0.054$ &  $0.546\\pm0.024$ \\\\\n",
      "   SL-DT-PEHE &  $0.071\\pm0.010$ &  $0.656\\pm0.033$ \\\\\n",
      " SL-LGBM-PEHE &  $0.070\\pm0.009$ &  $0.657\\pm0.033$ \\\\\n",
      "   SL-KR-PEHE &  $0.071\\pm0.009$ &  $0.657\\pm0.033$ \\\\\n",
      "   TL-DT-PEHE &  $0.068\\pm0.008$ &  $0.658\\pm0.036$ \\\\\n",
      " TL-LGBM-PEHE &  $0.067\\pm0.008$ &  $0.657\\pm0.036$ \\\\\n",
      "   TL-KR-PEHE &  $0.069\\pm0.008$ &  $0.658\\pm0.034$ \\\\\n",
      " MATCH-1K-ATE &  $0.271\\pm0.048$ &  $0.541\\pm0.029$ \\\\\n",
      " MATCH-3K-ATE &  $0.274\\pm0.049$ &  $0.541\\pm0.029$ \\\\\n",
      " MATCH-5K-ATE &  $0.274\\pm0.049$ &  $0.542\\pm0.028$ \\\\\n",
      "MATCH-1K-PEHE &  $0.067\\pm0.009$ &  $0.654\\pm0.035$ \\\\\n",
      "MATCH-3K-PEHE &  $0.068\\pm0.010$ &  $0.656\\pm0.036$ \\\\\n",
      "MATCH-5K-PEHE &  $0.068\\pm0.010$ &  $0.656\\pm0.036$ \\\\\n",
      "        RS-DT & $-0.035\\pm0.008$ & $-0.397\\pm0.046$ \\\\\n",
      "      RS-LGBM & $-0.035\\pm0.008$ & $-0.403\\pm0.047$ \\\\\n",
      "        RS-KR & $-0.034\\pm0.007$ & $-0.396\\pm0.049$ \\\\\n",
      "\\bottomrule\n",
      "\\end{tabular}\n",
      "\n"
     ]
    }
   ],
   "source": [
    "df_all = pd.read_csv(f'./tables/{ds}_compare_correlations_all.csv')\n",
    "\n",
    "df_ate = show_all(df_all, avg_metric, ['ate', 'pehe'], plugin_models, matching_ks, rscore_base_models)\n",
    "df_pehe = show_all(df_all, ite_metric, ['ate', 'pehe'], plugin_models, matching_ks, rscore_base_models)\n",
    "\n",
    "selection_models = [f'{pmm}_{pbm}_{pm}' for pmm in plugin_meta_models for pbm in plugin_base_models for pm in ['ate', 'pehe']] + [f'match_{k}k_{pm}' for k in matching_ks for pm in ['ate', 'pehe']] + [f'rs_{rbm}' for rbm in rscore_base_models]\n",
    "d_ate = {f'{avg_metric}_mse': 'mse', f'{avg_metric}_r2': 'r2'}\n",
    "d_pehe = {f'{ite_metric}_mse': 'mse', f'{ite_metric}_r2': 'r2'}\n",
    "for sm in selection_models:\n",
    "    d_ate[f'{avg_metric}_{sm}'] = sm\n",
    "    d_pehe[f'{ite_metric}_{sm}'] = sm\n",
    "\n",
    "df_ate = df_ate.rename(columns=d_ate)\n",
    "df_pehe = df_pehe.rename(columns=d_pehe)\n",
    "\n",
    "df_ate = df_ate.set_index('name').T\n",
    "df_pehe = df_pehe.set_index('name').T\n",
    "\n",
    "df_twins = df_ate.merge(df_pehe, left_index=True, right_index=True, suffixes=['_ate', '_pehe']).reset_index()\n",
    "\n",
    "df_twins['selection'] = df_twins['index'].apply(lambda x: x.upper().replace('_', '-'))\n",
    "print(df_twins[['selection', 'all_ate', 'all_pehe']].to_latex(index=False, escape=False))\n"
   ]
  },
  {
   "attachments": {},
   "cell_type": "markdown",
   "metadata": {},
   "source": [
    "# News"
   ]
  },
  {
   "cell_type": "code",
   "execution_count": 10,
   "metadata": {},
   "outputs": [],
   "source": [
    "plugin_meta_models = ['sl', 'tl']\n",
    "plugin_base_models = ['dt', 'lgbm', 'kr']\n",
    "plugin_models = [f'{pmm}_{pbm}' for pmm in plugin_meta_models for pbm in plugin_base_models]\n",
    "matching_ks = [1, 3, 5]\n",
    "rscore_base_models = ['dt', 'lgbm', 'kr']\n",
    "\n",
    "ds = 'news'\n",
    "avg_metric = 'ate'\n",
    "ite_metric = 'pehe'"
   ]
  },
  {
   "cell_type": "code",
   "execution_count": 11,
   "metadata": {},
   "outputs": [
    {
     "name": "stdout",
     "output_type": "stream",
     "text": [
      "\\begin{tabular}{lll}\n",
      "\\toprule\n",
      "    selection &          all_ate &         all_pehe \\\\\n",
      "\\midrule\n",
      "          MSE &  $0.499\\pm0.132$ &  $0.503\\pm0.132$ \\\\\n",
      "           R2 & $-0.405\\pm0.124$ & $-0.410\\pm0.124$ \\\\\n",
      "    SL-DT-ATE &  $0.314\\pm0.132$ &  $0.313\\pm0.132$ \\\\\n",
      "  SL-LGBM-ATE &  $0.314\\pm0.132$ &  $0.314\\pm0.133$ \\\\\n",
      "    SL-KR-ATE &  $0.314\\pm0.132$ &  $0.315\\pm0.133$ \\\\\n",
      "    TL-DT-ATE &  $0.314\\pm0.132$ &  $0.313\\pm0.132$ \\\\\n",
      "  TL-LGBM-ATE &  $0.314\\pm0.132$ &  $0.313\\pm0.132$ \\\\\n",
      "    TL-KR-ATE &  $0.314\\pm0.132$ &  $0.314\\pm0.133$ \\\\\n",
      "   SL-DT-PEHE &  $0.311\\pm0.132$ &  $0.315\\pm0.134$ \\\\\n",
      " SL-LGBM-PEHE &  $0.311\\pm0.132$ &  $0.315\\pm0.134$ \\\\\n",
      "   SL-KR-PEHE &  $0.311\\pm0.132$ &  $0.315\\pm0.134$ \\\\\n",
      "   TL-DT-PEHE &  $0.311\\pm0.132$ &  $0.315\\pm0.134$ \\\\\n",
      " TL-LGBM-PEHE &  $0.311\\pm0.132$ &  $0.315\\pm0.134$ \\\\\n",
      "   TL-KR-PEHE &  $0.311\\pm0.132$ &  $0.315\\pm0.134$ \\\\\n",
      " MATCH-1K-ATE &  $0.313\\pm0.132$ &  $0.313\\pm0.132$ \\\\\n",
      " MATCH-3K-ATE &  $0.313\\pm0.132$ &  $0.313\\pm0.132$ \\\\\n",
      " MATCH-5K-ATE &  $0.313\\pm0.132$ &  $0.313\\pm0.132$ \\\\\n",
      "MATCH-1K-PEHE &  $0.311\\pm0.132$ &  $0.315\\pm0.134$ \\\\\n",
      "MATCH-3K-PEHE &  $0.311\\pm0.132$ &  $0.315\\pm0.134$ \\\\\n",
      "MATCH-5K-PEHE &  $0.311\\pm0.132$ &  $0.315\\pm0.134$ \\\\\n",
      "        RS-DT & $-0.209\\pm0.087$ & $-0.229\\pm0.097$ \\\\\n",
      "      RS-LGBM & $-0.295\\pm0.098$ & $-0.317\\pm0.106$ \\\\\n",
      "        RS-KR & $-0.283\\pm0.099$ & $-0.305\\pm0.108$ \\\\\n",
      "\\bottomrule\n",
      "\\end{tabular}\n",
      "\n"
     ]
    }
   ],
   "source": [
    "df_all = pd.read_csv(f'./tables/{ds}_compare_correlations_all.csv')\n",
    "\n",
    "df_ate = show_all(df_all, avg_metric, ['ate', 'pehe'], plugin_models, matching_ks, rscore_base_models)\n",
    "df_pehe = show_all(df_all, ite_metric, ['ate', 'pehe'], plugin_models, matching_ks, rscore_base_models)\n",
    "\n",
    "selection_models = [f'{pmm}_{pbm}_{pm}' for pmm in plugin_meta_models for pbm in plugin_base_models for pm in ['ate', 'pehe']] + [f'match_{k}k_{pm}' for k in matching_ks for pm in ['ate', 'pehe']] + [f'rs_{rbm}' for rbm in rscore_base_models]\n",
    "d_ate = {f'{avg_metric}_mse': 'mse', f'{avg_metric}_r2': 'r2'}\n",
    "d_pehe = {f'{ite_metric}_mse': 'mse', f'{ite_metric}_r2': 'r2'}\n",
    "for sm in selection_models:\n",
    "    d_ate[f'{avg_metric}_{sm}'] = sm\n",
    "    d_pehe[f'{ite_metric}_{sm}'] = sm\n",
    "\n",
    "df_ate = df_ate.rename(columns=d_ate)\n",
    "df_pehe = df_pehe.rename(columns=d_pehe)\n",
    "\n",
    "df_ate = df_ate.set_index('name').T\n",
    "df_pehe = df_pehe.set_index('name').T\n",
    "\n",
    "df_news = df_ate.merge(df_pehe, left_index=True, right_index=True, suffixes=['_ate', '_pehe']).reset_index()\n",
    "\n",
    "df_news['selection'] = df_news['index'].apply(lambda x: x.upper().replace('_', '-'))\n",
    "print(df_news[['selection', 'all_ate', 'all_pehe']].to_latex(index=False, escape=False))\n"
   ]
  },
  {
   "attachments": {},
   "cell_type": "markdown",
   "metadata": {},
   "source": [
    "# All"
   ]
  },
  {
   "cell_type": "code",
   "execution_count": 12,
   "metadata": {},
   "outputs": [
    {
     "name": "stdout",
     "output_type": "stream",
     "text": [
      "\\begin{tabular}{lllllllll}\n",
      "\\toprule\n",
      "    selection &          all_ate &         all_pehe &          all_att &          all_pol &    all_ate_twins &   all_pehe_twins &     all_ate_news &    all_pehe_news \\\\\n",
      "\\midrule\n",
      "          MSE &  $0.774\\pm0.071$ &  $0.907\\pm0.019$ &  $0.051\\pm0.007$ &  $0.080\\pm0.020$ &  $0.080\\pm0.008$ &  $0.968\\pm0.011$ &  $0.499\\pm0.132$ &  $0.503\\pm0.132$ \\\\\n",
      "           R2 & $-0.908\\pm0.019$ & $-0.737\\pm0.096$ & $-0.048\\pm0.006$ & $-0.079\\pm0.020$ & $-0.076\\pm0.007$ & $-0.969\\pm0.010$ & $-0.405\\pm0.124$ & $-0.410\\pm0.124$ \\\\\n",
      "          POL &              NaN &              NaN &  $0.023\\pm0.005$ &  $0.289\\pm0.074$ &              NaN &              NaN &              NaN &              NaN \\\\\n",
      "    SL-DT-ATE &  $0.749\\pm0.148$ &  $0.582\\pm0.062$ &  $0.530\\pm0.073$ &  $0.014\\pm0.008$ &  $0.286\\pm0.068$ &  $0.520\\pm0.039$ &  $0.314\\pm0.132$ &  $0.313\\pm0.132$ \\\\\n",
      "  SL-LGBM-ATE & $-0.866\\pm0.056$ & $-0.458\\pm0.094$ &  $0.530\\pm0.073$ &  $0.014\\pm0.008$ &  $0.309\\pm0.062$ &  $0.538\\pm0.030$ &  $0.314\\pm0.132$ &  $0.314\\pm0.133$ \\\\\n",
      "    SL-KR-ATE &  $0.718\\pm0.107$ &  $0.505\\pm0.042$ &  $0.530\\pm0.073$ &  $0.014\\pm0.008$ &  $0.316\\pm0.070$ &  $0.535\\pm0.032$ &  $0.314\\pm0.132$ &  $0.315\\pm0.133$ \\\\\n",
      "    TL-DT-ATE &  $0.954\\pm0.017$ &  $0.613\\pm0.049$ &  $0.530\\pm0.073$ &  $0.014\\pm0.008$ &  $0.283\\pm0.048$ &  $0.541\\pm0.028$ &  $0.314\\pm0.132$ &  $0.313\\pm0.132$ \\\\\n",
      "  TL-LGBM-ATE &  $0.954\\pm0.016$ &  $0.611\\pm0.048$ &  $0.530\\pm0.073$ &  $0.014\\pm0.008$ &  $0.294\\pm0.056$ &  $0.541\\pm0.030$ &  $0.314\\pm0.132$ &  $0.313\\pm0.132$ \\\\\n",
      "    TL-KR-ATE &  $0.945\\pm0.013$ &  $0.594\\pm0.045$ &  $0.530\\pm0.073$ &  $0.014\\pm0.008$ &  $0.288\\pm0.054$ &  $0.546\\pm0.024$ &  $0.314\\pm0.132$ &  $0.314\\pm0.133$ \\\\\n",
      "   SL-DT-PEHE &  $0.544\\pm0.101$ &  $0.712\\pm0.119$ &  $0.505\\pm0.064$ &  $0.011\\pm0.006$ &  $0.071\\pm0.010$ &  $0.656\\pm0.033$ &  $0.311\\pm0.132$ &  $0.315\\pm0.134$ \\\\\n",
      " SL-LGBM-PEHE & $-0.532\\pm0.085$ & $-0.080\\pm0.083$ &  $0.505\\pm0.064$ &  $0.011\\pm0.006$ &  $0.070\\pm0.009$ &  $0.657\\pm0.033$ &  $0.311\\pm0.132$ &  $0.315\\pm0.134$ \\\\\n",
      "   SL-KR-PEHE &  $0.408\\pm0.076$ &  $0.635\\pm0.115$ &  $0.505\\pm0.064$ &  $0.011\\pm0.006$ &  $0.071\\pm0.009$ &  $0.657\\pm0.033$ &  $0.311\\pm0.132$ &  $0.315\\pm0.134$ \\\\\n",
      "   TL-DT-PEHE &  $0.640\\pm0.060$ &  $0.810\\pm0.061$ &  $0.505\\pm0.064$ &  $0.011\\pm0.006$ &  $0.068\\pm0.008$ &  $0.658\\pm0.036$ &  $0.311\\pm0.132$ &  $0.315\\pm0.134$ \\\\\n",
      " TL-LGBM-PEHE &  $0.620\\pm0.064$ &  $0.786\\pm0.071$ &  $0.505\\pm0.064$ &  $0.011\\pm0.006$ &  $0.067\\pm0.008$ &  $0.657\\pm0.036$ &  $0.311\\pm0.132$ &  $0.315\\pm0.134$ \\\\\n",
      "   TL-KR-PEHE &  $0.616\\pm0.048$ &  $0.883\\pm0.023$ &  $0.505\\pm0.064$ &  $0.011\\pm0.006$ &  $0.069\\pm0.008$ &  $0.658\\pm0.034$ &  $0.311\\pm0.132$ &  $0.315\\pm0.134$ \\\\\n",
      " MATCH-1K-ATE &  $0.954\\pm0.017$ &  $0.599\\pm0.054$ &  $0.530\\pm0.073$ &  $0.014\\pm0.008$ &  $0.271\\pm0.048$ &  $0.541\\pm0.029$ &  $0.313\\pm0.132$ &  $0.313\\pm0.132$ \\\\\n",
      " MATCH-3K-ATE &  $0.956\\pm0.015$ &  $0.608\\pm0.050$ &  $0.530\\pm0.073$ &  $0.014\\pm0.008$ &  $0.274\\pm0.049$ &  $0.541\\pm0.029$ &  $0.313\\pm0.132$ &  $0.313\\pm0.132$ \\\\\n",
      " MATCH-5K-ATE &  $0.957\\pm0.015$ &  $0.607\\pm0.051$ &  $0.530\\pm0.073$ &  $0.014\\pm0.008$ &  $0.274\\pm0.049$ &  $0.542\\pm0.028$ &  $0.313\\pm0.132$ &  $0.313\\pm0.132$ \\\\\n",
      "MATCH-1K-PEHE &  $0.629\\pm0.054$ &  $0.895\\pm0.020$ &  $0.505\\pm0.064$ &  $0.011\\pm0.006$ &  $0.067\\pm0.009$ &  $0.654\\pm0.035$ &  $0.311\\pm0.132$ &  $0.315\\pm0.134$ \\\\\n",
      "MATCH-3K-PEHE &  $0.639\\pm0.055$ &  $0.900\\pm0.021$ &  $0.505\\pm0.064$ &  $0.011\\pm0.006$ &  $0.068\\pm0.010$ &  $0.656\\pm0.036$ &  $0.311\\pm0.132$ &  $0.315\\pm0.134$ \\\\\n",
      "MATCH-5K-PEHE &  $0.643\\pm0.055$ &  $0.900\\pm0.021$ &  $0.505\\pm0.064$ &  $0.011\\pm0.006$ &  $0.068\\pm0.010$ &  $0.656\\pm0.036$ &  $0.311\\pm0.132$ &  $0.315\\pm0.134$ \\\\\n",
      "        RS-DT & $-0.161\\pm0.037$ & $-0.556\\pm0.058$ & $-0.566\\pm0.112$ & $-0.003\\pm0.002$ & $-0.035\\pm0.008$ & $-0.397\\pm0.046$ & $-0.209\\pm0.087$ & $-0.229\\pm0.097$ \\\\\n",
      "      RS-LGBM & $-0.199\\pm0.050$ & $-0.571\\pm0.060$ & $-0.501\\pm0.097$ & $-0.004\\pm0.001$ & $-0.035\\pm0.008$ & $-0.403\\pm0.047$ & $-0.295\\pm0.098$ & $-0.317\\pm0.106$ \\\\\n",
      "        RS-KR & $-0.210\\pm0.048$ & $-0.592\\pm0.055$ & $-0.615\\pm0.103$ & $-0.002\\pm0.001$ & $-0.034\\pm0.007$ & $-0.396\\pm0.049$ & $-0.283\\pm0.099$ & $-0.305\\pm0.108$ \\\\\n",
      "\\bottomrule\n",
      "\\end{tabular}\n",
      "\n"
     ]
    }
   ],
   "source": [
    "cols = ['selection', 'all_ate', 'all_pehe']\n",
    "df_all = df_ihdp[cols].merge(df_jobs[['selection', 'all_att', 'all_pol']], how='right', on='selection', suffixes=['_ihdp', '_jobs']).merge(df_twins[cols], how='left', on='selection', suffixes=['', '_twins']).merge(df_news[cols], how='left', on='selection', suffixes=['', '_news'])\n",
    "\n",
    "print(df_all.to_latex(index=False, escape=False))"
   ]
  }
 ],
 "metadata": {
  "kernelspec": {
   "display_name": "Python 3.9.7 ('tf-gpu')",
   "language": "python",
   "name": "python3"
  },
  "language_info": {
   "codemirror_mode": {
    "name": "ipython",
    "version": 3
   },
   "file_extension": ".py",
   "mimetype": "text/x-python",
   "name": "python",
   "nbconvert_exporter": "python",
   "pygments_lexer": "ipython3",
   "version": "3.9.7"
  },
  "orig_nbformat": 4,
  "vscode": {
   "interpreter": {
    "hash": "b92bf4d768b2900bfdb0d55b9270dc3e0484f7baa07f8baf2ad16a5c3cba66ac"
   }
  }
 },
 "nbformat": 4,
 "nbformat_minor": 2
}
