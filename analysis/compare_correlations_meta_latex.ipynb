{
 "cells": [
  {
   "cell_type": "code",
   "execution_count": 1,
   "metadata": {},
   "outputs": [],
   "source": [
    "import pandas as pd"
   ]
  },
  {
   "cell_type": "code",
   "execution_count": 4,
   "metadata": {},
   "outputs": [],
   "source": [
    "def show_all(df, metric, plugin_metrics, plugin_models, matching_ks, rscore_models):\n",
    "    plugin_cols = [f'{metric}_{pm}_{plugin_metric}' for plugin_metric in plugin_metrics for pm in plugin_models]\n",
    "    matching_cols = [f'{metric}_match_{k}k_{plugin_metric}' for plugin_metric in plugin_metrics for k in matching_ks]\n",
    "    rscore_cols = [f'{metric}_rs_{rs_bm}' for rs_bm in rscore_models]\n",
    "    cols = ['name', f'{metric}_mse', f'{metric}_r2'] + plugin_cols + matching_cols + rscore_cols\n",
    "    return df[cols]\n",
    "\n",
    "def show_all_jobs(df, metric, plugin_metrics, plugin_models, matching_ks, rscore_models):\n",
    "    plugin_cols = [f'{metric}_{pm}_{plugin_metric}' for plugin_metric in plugin_metrics for pm in plugin_models]\n",
    "    matching_cols = [f'{metric}_match_{k}k_{plugin_metric}' for plugin_metric in plugin_metrics for k in matching_ks]\n",
    "    rscore_cols = [f'{metric}_rs_{rs_bm}' for rs_bm in rscore_models]\n",
    "    cols = ['name', f'{metric}_mse', f'{metric}_r2', f'{metric}_pol'] + plugin_cols + matching_cols + rscore_cols\n",
    "    return df[cols]"
   ]
  },
  {
   "cell_type": "markdown",
   "metadata": {},
   "source": [
    "# IHDP"
   ]
  },
  {
   "cell_type": "code",
   "execution_count": 3,
   "metadata": {},
   "outputs": [],
   "source": [
    "plugin_meta_models = ['sl', 'tl']\n",
    "plugin_base_models = ['dt', 'lgbm', 'kr']\n",
    "plugin_models = [f'{pmm}_{pbm}' for pmm in plugin_meta_models for pbm in plugin_base_models]\n",
    "matching_ks = [1, 3, 5]\n",
    "rscore_base_models = ['dt', 'lgbm', 'kr']\n",
    "\n",
    "ds = 'ihdp'\n",
    "avg_metric = 'ate'\n",
    "ite_metric = 'pehe'"
   ]
  },
  {
   "cell_type": "code",
   "execution_count": 5,
   "metadata": {},
   "outputs": [
    {
     "name": "stdout",
     "output_type": "stream",
     "text": [
      "\\begin{tabular}{lll}\n",
      "\\toprule\n",
      "    selection &          all_ate &         all_pehe \\\\\n",
      "\\midrule\n",
      "          MSE &  $0.774\\pm0.214$ &  $0.907\\pm0.057$ \\\\\n",
      "           R2 & $-0.908\\pm0.056$ & $-0.737\\pm0.288$ \\\\\n",
      "    SL-DT-ATE &  $0.749\\pm0.445$ &  $0.582\\pm0.186$ \\\\\n",
      "  SL-LGBM-ATE & $-0.866\\pm0.168$ & $-0.458\\pm0.283$ \\\\\n",
      "    SL-KR-ATE &  $0.718\\pm0.322$ &  $0.505\\pm0.126$ \\\\\n",
      "    TL-DT-ATE &  $0.954\\pm0.051$ &  $0.613\\pm0.147$ \\\\\n",
      "  TL-LGBM-ATE &  $0.954\\pm0.047$ &  $0.611\\pm0.144$ \\\\\n",
      "    TL-KR-ATE &  $0.945\\pm0.038$ &  $0.594\\pm0.136$ \\\\\n",
      "   SL-DT-PEHE &  $0.544\\pm0.303$ &  $0.712\\pm0.358$ \\\\\n",
      " SL-LGBM-PEHE & $-0.532\\pm0.254$ & $-0.080\\pm0.250$ \\\\\n",
      "   SL-KR-PEHE &  $0.408\\pm0.229$ &  $0.635\\pm0.346$ \\\\\n",
      "   TL-DT-PEHE &  $0.640\\pm0.180$ &  $0.810\\pm0.182$ \\\\\n",
      " TL-LGBM-PEHE &  $0.620\\pm0.193$ &  $0.786\\pm0.212$ \\\\\n",
      "   TL-KR-PEHE &  $0.616\\pm0.143$ &  $0.883\\pm0.069$ \\\\\n",
      " MATCH-1K-ATE &  $0.954\\pm0.050$ &  $0.599\\pm0.161$ \\\\\n",
      " MATCH-3K-ATE &  $0.956\\pm0.045$ &  $0.608\\pm0.150$ \\\\\n",
      " MATCH-5K-ATE &  $0.957\\pm0.044$ &  $0.607\\pm0.152$ \\\\\n",
      "MATCH-1K-PEHE &  $0.629\\pm0.163$ &  $0.895\\pm0.060$ \\\\\n",
      "MATCH-3K-PEHE &  $0.639\\pm0.166$ &  $0.900\\pm0.062$ \\\\\n",
      "MATCH-5K-PEHE &  $0.643\\pm0.166$ &  $0.900\\pm0.063$ \\\\\n",
      "        RS-DT & $-0.161\\pm0.110$ & $-0.556\\pm0.175$ \\\\\n",
      "      RS-LGBM & $-0.199\\pm0.149$ & $-0.571\\pm0.181$ \\\\\n",
      "        RS-KR & $-0.210\\pm0.145$ & $-0.592\\pm0.164$ \\\\\n",
      "\\bottomrule\n",
      "\\end{tabular}\n",
      "\n"
     ]
    }
   ],
   "source": [
    "df_all = pd.read_csv(f'./tables/{ds}_compare_correlations_all_sem_latex.csv')\n",
    "\n",
    "df_ate = show_all(df_all, avg_metric, ['ate', 'pehe'], plugin_models, matching_ks, rscore_base_models)\n",
    "df_pehe = show_all(df_all, ite_metric, ['ate', 'pehe'], plugin_models, matching_ks, rscore_base_models)\n",
    "\n",
    "selection_models = [f'{pmm}_{pbm}_{pm}' for pmm in plugin_meta_models for pbm in plugin_base_models for pm in ['ate', 'pehe']] + [f'match_{k}k_{pm}' for k in matching_ks for pm in ['ate', 'pehe']] + [f'rs_{rbm}' for rbm in rscore_base_models]\n",
    "d_ate = {f'{avg_metric}_mse': 'mse', f'{avg_metric}_r2': 'r2'}\n",
    "d_pehe = {f'{ite_metric}_mse': 'mse', f'{ite_metric}_r2': 'r2'}\n",
    "for sm in selection_models:\n",
    "    d_ate[f'{avg_metric}_{sm}'] = sm\n",
    "    d_pehe[f'{ite_metric}_{sm}'] = sm\n",
    "\n",
    "df_ate = df_ate.rename(columns=d_ate)\n",
    "df_pehe = df_pehe.rename(columns=d_pehe)\n",
    "\n",
    "df_ate = df_ate.set_index('name').T\n",
    "df_pehe = df_pehe.set_index('name').T\n",
    "\n",
    "df_merged = df_ate.merge(df_pehe, left_index=True, right_index=True, suffixes=['_ate', '_pehe']).reset_index()\n",
    "\n",
    "df_merged['selection'] = df_merged['index'].apply(lambda x: x.upper().replace('_', '-'))\n",
    "print(df_merged[['selection', 'all_ate', 'all_pehe']].to_latex(index=False, escape=False))\n"
   ]
  },
  {
   "cell_type": "markdown",
   "metadata": {},
   "source": [
    "# Jobs"
   ]
  },
  {
   "cell_type": "code",
   "execution_count": 6,
   "metadata": {},
   "outputs": [],
   "source": [
    "plugin_meta_models = ['sl', 'tl']\n",
    "plugin_base_models = ['dt', 'lgbm', 'kr']\n",
    "plugin_models = [f'{pmm}_{pbm}' for pmm in plugin_meta_models for pbm in plugin_base_models]\n",
    "matching_ks = [1, 3, 5]\n",
    "rscore_base_models = ['dt', 'lgbm', 'kr']\n",
    "\n",
    "ds = 'jobs'\n",
    "avg_metric = 'att'\n",
    "ite_metric = 'policy'"
   ]
  },
  {
   "cell_type": "code",
   "execution_count": 7,
   "metadata": {},
   "outputs": [
    {
     "name": "stdout",
     "output_type": "stream",
     "text": [
      "\\begin{tabular}{lll}\n",
      "\\toprule\n",
      "    selection &          all_att &          all_pol \\\\\n",
      "\\midrule\n",
      "          MSE &  $0.051\\pm0.021$ &  $0.080\\pm0.060$ \\\\\n",
      "           R2 & $-0.048\\pm0.018$ & $-0.079\\pm0.060$ \\\\\n",
      "          POL &  $0.023\\pm0.015$ &  $0.289\\pm0.223$ \\\\\n",
      "    SL-DT-ATE &  $0.530\\pm0.219$ &  $0.014\\pm0.024$ \\\\\n",
      "  SL-LGBM-ATE &  $0.530\\pm0.219$ &  $0.014\\pm0.024$ \\\\\n",
      "    SL-KR-ATE &  $0.530\\pm0.219$ &  $0.014\\pm0.024$ \\\\\n",
      "    TL-DT-ATE &  $0.530\\pm0.219$ &  $0.014\\pm0.024$ \\\\\n",
      "  TL-LGBM-ATE &  $0.530\\pm0.219$ &  $0.014\\pm0.024$ \\\\\n",
      "    TL-KR-ATE &  $0.530\\pm0.219$ &  $0.014\\pm0.024$ \\\\\n",
      "   SL-DT-PEHE &  $0.505\\pm0.192$ &  $0.011\\pm0.018$ \\\\\n",
      " SL-LGBM-PEHE &  $0.505\\pm0.192$ &  $0.011\\pm0.018$ \\\\\n",
      "   SL-KR-PEHE &  $0.505\\pm0.192$ &  $0.011\\pm0.018$ \\\\\n",
      "   TL-DT-PEHE &  $0.505\\pm0.192$ &  $0.011\\pm0.018$ \\\\\n",
      " TL-LGBM-PEHE &  $0.505\\pm0.192$ &  $0.011\\pm0.018$ \\\\\n",
      "   TL-KR-PEHE &  $0.505\\pm0.192$ &  $0.011\\pm0.018$ \\\\\n",
      " MATCH-1K-ATE &  $0.530\\pm0.219$ &  $0.014\\pm0.024$ \\\\\n",
      " MATCH-3K-ATE &  $0.530\\pm0.219$ &  $0.014\\pm0.024$ \\\\\n",
      " MATCH-5K-ATE &  $0.530\\pm0.219$ &  $0.014\\pm0.024$ \\\\\n",
      "MATCH-1K-PEHE &  $0.505\\pm0.192$ &  $0.011\\pm0.018$ \\\\\n",
      "MATCH-3K-PEHE &  $0.505\\pm0.192$ &  $0.011\\pm0.018$ \\\\\n",
      "MATCH-5K-PEHE &  $0.505\\pm0.192$ &  $0.011\\pm0.018$ \\\\\n",
      "        RS-DT & $-0.566\\pm0.337$ & $-0.003\\pm0.005$ \\\\\n",
      "      RS-LGBM & $-0.501\\pm0.291$ & $-0.004\\pm0.004$ \\\\\n",
      "        RS-KR & $-0.615\\pm0.309$ & $-0.002\\pm0.004$ \\\\\n",
      "\\bottomrule\n",
      "\\end{tabular}\n",
      "\n"
     ]
    }
   ],
   "source": [
    "df_all = pd.read_csv(f'./tables/{ds}_compare_correlations_all_sem_latex.csv')\n",
    "\n",
    "df_ate = show_all_jobs(df_all, avg_metric, ['ate', 'pehe'], plugin_models, matching_ks, rscore_base_models)\n",
    "df_pehe = show_all_jobs(df_all, ite_metric, ['ate', 'pehe'], plugin_models, matching_ks, rscore_base_models)\n",
    "\n",
    "selection_models = [f'{pmm}_{pbm}_{pm}' for pmm in plugin_meta_models for pbm in plugin_base_models for pm in ['ate', 'pehe']] + [f'match_{k}k_{pm}' for k in matching_ks for pm in ['ate', 'pehe']] + [f'rs_{rbm}' for rbm in rscore_base_models]\n",
    "d_ate = {f'{avg_metric}_mse': 'mse', f'{avg_metric}_r2': 'r2', f'{avg_metric}_pol': 'pol'}\n",
    "d_pehe = {f'{ite_metric}_mse': 'mse', f'{ite_metric}_r2': 'r2', f'{ite_metric}_pol': 'pol'}\n",
    "for sm in selection_models:\n",
    "    d_ate[f'{avg_metric}_{sm}'] = sm\n",
    "    d_pehe[f'{ite_metric}_{sm}'] = sm\n",
    "\n",
    "df_ate = df_ate.rename(columns=d_ate)\n",
    "df_pehe = df_pehe.rename(columns=d_pehe)\n",
    "\n",
    "df_ate = df_ate.set_index('name').T\n",
    "df_pehe = df_pehe.set_index('name').T\n",
    "\n",
    "df_merged = df_ate.merge(df_pehe, left_index=True, right_index=True, suffixes=['_att', '_pol']).reset_index()\n",
    "\n",
    "df_merged['selection'] = df_merged['index'].apply(lambda x: x.upper().replace('_', '-'))\n",
    "print(df_merged[['selection', 'all_att', 'all_pol']].to_latex(index=False, escape=False))\n"
   ]
  },
  {
   "cell_type": "markdown",
   "metadata": {},
   "source": [
    "# Twins"
   ]
  },
  {
   "cell_type": "code",
   "execution_count": 8,
   "metadata": {},
   "outputs": [],
   "source": [
    "plugin_meta_models = ['sl', 'tl']\n",
    "plugin_base_models = ['dt', 'lgbm', 'kr']\n",
    "plugin_models = [f'{pmm}_{pbm}' for pmm in plugin_meta_models for pbm in plugin_base_models]\n",
    "matching_ks = [1, 3, 5]\n",
    "rscore_base_models = ['dt', 'lgbm', 'kr']\n",
    "\n",
    "ds = 'twins'\n",
    "avg_metric = 'ate'\n",
    "ite_metric = 'pehe'"
   ]
  },
  {
   "cell_type": "code",
   "execution_count": 9,
   "metadata": {},
   "outputs": [
    {
     "name": "stdout",
     "output_type": "stream",
     "text": [
      "\\begin{tabular}{lll}\n",
      "\\toprule\n",
      "    selection &          all_ate &         all_pehe \\\\\n",
      "\\midrule\n",
      "          MSE &  $0.080\\pm0.023$ &  $0.968\\pm0.034$ \\\\\n",
      "           R2 & $-0.076\\pm0.021$ & $-0.969\\pm0.030$ \\\\\n",
      "    SL-DT-ATE &  $0.286\\pm0.203$ &  $0.520\\pm0.116$ \\\\\n",
      "  SL-LGBM-ATE &  $0.309\\pm0.185$ &  $0.538\\pm0.090$ \\\\\n",
      "    SL-KR-ATE &  $0.316\\pm0.209$ &  $0.535\\pm0.097$ \\\\\n",
      "    TL-DT-ATE &  $0.283\\pm0.144$ &  $0.541\\pm0.084$ \\\\\n",
      "  TL-LGBM-ATE &  $0.294\\pm0.169$ &  $0.541\\pm0.089$ \\\\\n",
      "    TL-KR-ATE &  $0.288\\pm0.161$ &  $0.546\\pm0.073$ \\\\\n",
      "   SL-DT-PEHE &  $0.071\\pm0.029$ &  $0.656\\pm0.098$ \\\\\n",
      " SL-LGBM-PEHE &  $0.070\\pm0.027$ &  $0.657\\pm0.100$ \\\\\n",
      "   SL-KR-PEHE &  $0.071\\pm0.028$ &  $0.657\\pm0.098$ \\\\\n",
      "   TL-DT-PEHE &  $0.068\\pm0.023$ &  $0.658\\pm0.107$ \\\\\n",
      " TL-LGBM-PEHE &  $0.067\\pm0.024$ &  $0.657\\pm0.109$ \\\\\n",
      "   TL-KR-PEHE &  $0.069\\pm0.024$ &  $0.658\\pm0.103$ \\\\\n",
      " MATCH-1K-ATE &  $0.271\\pm0.145$ &  $0.541\\pm0.086$ \\\\\n",
      " MATCH-3K-ATE &  $0.274\\pm0.147$ &  $0.541\\pm0.086$ \\\\\n",
      " MATCH-5K-ATE &  $0.274\\pm0.148$ &  $0.542\\pm0.084$ \\\\\n",
      "MATCH-1K-PEHE &  $0.067\\pm0.028$ &  $0.654\\pm0.106$ \\\\\n",
      "MATCH-3K-PEHE &  $0.068\\pm0.030$ &  $0.656\\pm0.108$ \\\\\n",
      "MATCH-5K-PEHE &  $0.068\\pm0.030$ &  $0.656\\pm0.108$ \\\\\n",
      "        RS-DT & $-0.035\\pm0.023$ & $-0.397\\pm0.139$ \\\\\n",
      "      RS-LGBM & $-0.035\\pm0.024$ & $-0.403\\pm0.141$ \\\\\n",
      "        RS-KR & $-0.034\\pm0.021$ & $-0.396\\pm0.146$ \\\\\n",
      "\\bottomrule\n",
      "\\end{tabular}\n",
      "\n"
     ]
    }
   ],
   "source": [
    "df_all = pd.read_csv(f'./tables/{ds}_compare_correlations_all_sem_latex.csv')\n",
    "\n",
    "df_ate = show_all(df_all, avg_metric, ['ate', 'pehe'], plugin_models, matching_ks, rscore_base_models)\n",
    "df_pehe = show_all(df_all, ite_metric, ['ate', 'pehe'], plugin_models, matching_ks, rscore_base_models)\n",
    "\n",
    "selection_models = [f'{pmm}_{pbm}_{pm}' for pmm in plugin_meta_models for pbm in plugin_base_models for pm in ['ate', 'pehe']] + [f'match_{k}k_{pm}' for k in matching_ks for pm in ['ate', 'pehe']] + [f'rs_{rbm}' for rbm in rscore_base_models]\n",
    "d_ate = {f'{avg_metric}_mse': 'mse', f'{avg_metric}_r2': 'r2'}\n",
    "d_pehe = {f'{ite_metric}_mse': 'mse', f'{ite_metric}_r2': 'r2'}\n",
    "for sm in selection_models:\n",
    "    d_ate[f'{avg_metric}_{sm}'] = sm\n",
    "    d_pehe[f'{ite_metric}_{sm}'] = sm\n",
    "\n",
    "df_ate = df_ate.rename(columns=d_ate)\n",
    "df_pehe = df_pehe.rename(columns=d_pehe)\n",
    "\n",
    "df_ate = df_ate.set_index('name').T\n",
    "df_pehe = df_pehe.set_index('name').T\n",
    "\n",
    "df_merged = df_ate.merge(df_pehe, left_index=True, right_index=True, suffixes=['_ate', '_pehe']).reset_index()\n",
    "\n",
    "df_merged['selection'] = df_merged['index'].apply(lambda x: x.upper().replace('_', '-'))\n",
    "print(df_merged[['selection', 'all_ate', 'all_pehe']].to_latex(index=False, escape=False))\n"
   ]
  },
  {
   "cell_type": "code",
   "execution_count": null,
   "metadata": {},
   "outputs": [],
   "source": []
  }
 ],
 "metadata": {
  "kernelspec": {
   "display_name": "Python 3.9.7 ('tf-gpu')",
   "language": "python",
   "name": "python3"
  },
  "language_info": {
   "codemirror_mode": {
    "name": "ipython",
    "version": 3
   },
   "file_extension": ".py",
   "mimetype": "text/x-python",
   "name": "python",
   "nbconvert_exporter": "python",
   "pygments_lexer": "ipython3",
   "version": "3.9.7"
  },
  "orig_nbformat": 4,
  "vscode": {
   "interpreter": {
    "hash": "b92bf4d768b2900bfdb0d55b9270dc3e0484f7baa07f8baf2ad16a5c3cba66ac"
   }
  }
 },
 "nbformat": 4,
 "nbformat_minor": 2
}
